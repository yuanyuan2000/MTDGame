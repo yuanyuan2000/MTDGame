{
 "cells": [
  {
   "cell_type": "code",
   "execution_count": 1,
   "id": "511c4350",
   "metadata": {},
   "outputs": [
    {
     "name": "stderr",
     "output_type": "stream",
     "text": [
      "Note: NumExpr detected 12 cores but \"NUMEXPR_MAX_THREADS\" not set, so enforcing safe limit of 8.\n",
      "NumExpr defaulting to 8 threads.\n"
     ]
    }
   ],
   "source": [
    "from game import Game\n",
    "import threading\n",
    "import time\n",
    "import random"
   ]
  },
  {
   "cell_type": "code",
   "execution_count": 2,
   "id": "21f53bf1",
   "metadata": {},
   "outputs": [],
   "source": [
    "game_instance = Game()"
   ]
  },
  {
   "cell_type": "code",
   "execution_count": 3,
   "id": "7a52f34f",
   "metadata": {},
   "outputs": [],
   "source": [
    "def start_game():\n",
    "    # start the game\n",
    "    if not game_instance.get_isrunning():\n",
    "        game_instance.start()"
   ]
  },
  {
   "cell_type": "code",
   "execution_count": 4,
   "id": "b105ff4f",
   "metadata": {},
   "outputs": [],
   "source": [
    "def transform_nodes(old_nodes):\n",
    "    # print('-------------',type(old_nodes))\n",
    "    new_nodes = []\n",
    "    for node in old_nodes:\n",
    "        new_node = {\n",
    "            \"id\": node.id,\n",
    "            \"label\": str(node.id),\n",
    "            \"layer\": 1,\n",
    "            \"x\": node.x,\n",
    "            \"y\": node.y,\n",
    "            \"color\": {\"background\": str(node.color)},\n",
    "            \"value\": 30,\n",
    "        }\n",
    "        new_nodes.append(new_node)\n",
    "        # print(new_node)\n",
    "    return new_nodes\n",
    "\n",
    "def transform_edges(edges):\n",
    "    transformed_edges = []\n",
    "    for idx, edge in enumerate(edges, start=1):\n",
    "        transformed_edges.append({\n",
    "            \"id\": idx,\n",
    "            \"from\": edge[0],\n",
    "            \"to\": edge[1]\n",
    "        })\n",
    "    return transformed_edges"
   ]
  },
  {
   "cell_type": "code",
   "execution_count": 5,
   "id": "a66ccdc2",
   "metadata": {},
   "outputs": [
    {
     "name": "stderr",
     "output_type": "stream",
     "text": [
      "Period from 0.000 to 0.501\n",
      "Adversary: Start SCAN_HOST at 0.0s.\n",
      "Adversary: Processed SCAN_HOST at 5.0s.\n",
      "Adversary: Start ENUM_HOST at 5.0s.\n",
      "Adversary: Processed ENUM_HOST at 10.0s.\n",
      "Adversary: Start SCAN_PORT at 10.0s.\n",
      "Adversary: Processed SCAN_PORT at 35.0s.\n",
      "Adversary: Start SCAN_HOST at 130.5s.\n",
      "Adversary: Processed SCAN_HOST at 135.5s.\n",
      "Adversary: Start ENUM_HOST at 135.5s.\n",
      "Adversary: Processed ENUM_HOST at 140.5s.\n",
      "Adversary: Start SCAN_PORT at 140.5s.\n",
      "Period from 0.501 to 1.012\n",
      "Adversary: Processed SCAN_PORT at 165.5s.\n",
      "Period from 1.012 to 1.518\n",
      "Adversary: Start SCAN_HOST at 331.0s.\n",
      "Adversary: Processed SCAN_HOST at 336.0s.\n",
      "Adversary: Start ENUM_HOST at 336.0s.\n",
      "Adversary: Processed ENUM_HOST at 341.0s.\n",
      "Adversary: Start SCAN_PORT at 341.0s.\n",
      "Adversary: Processed SCAN_PORT at 366.0s.\n",
      "Period from 1.518 to 2.028\n",
      "Adversary: Start SCAN_HOST at 541.3s.\n",
      "Adversary: Processed SCAN_HOST at 546.3s.\n",
      "Adversary: Start ENUM_HOST at 546.3s.\n",
      "Adversary: Processed ENUM_HOST at 551.3s.\n",
      "Adversary: Start SCAN_PORT at 551.3s.\n",
      "Adversary: Processed SCAN_PORT at 576.3s.\n",
      "Period from 2.028 to 2.561\n",
      "Adversary: Start SCAN_NEIGHBOR at 687.1s.\n",
      "Adversary: Processed SCAN_NEIGHBOR at 692.1s.\n",
      "Adversary: Start ENUM_HOST at 692.1s.\n",
      "Adversary: Processed ENUM_HOST at 697.1s.\n",
      "Adversary: Start SCAN_PORT at 697.1s.\n",
      "Adversary: Start SCAN_HOST at 734.2s.\n",
      "Adversary: Processed SCAN_HOST at 739.2s.\n",
      "Adversary: Start ENUM_HOST at 739.2s.\n",
      "Adversary: Processed ENUM_HOST at 744.2s.\n",
      "Adversary: Start SCAN_PORT at 744.2s.\n",
      "Period from 2.561 to 3.074\n",
      "Adversary: Processed SCAN_PORT at 769.2s.\n",
      "Adversary: Start SCAN_NEIGHBOR at 910.1s.\n",
      "Period from 3.074 to 3.583\n",
      "Adversary: Start SCAN_HOST at 931.7s.\n",
      "Adversary: Processed SCAN_HOST at 936.7s.\n",
      "Adversary: Start ENUM_HOST at 936.7s.\n",
      "Adversary: Processed ENUM_HOST at 941.7s.\n",
      "Adversary: Start SCAN_PORT at 941.7s.\n",
      "Adversary: Processed SCAN_PORT at 966.7s.\n",
      "Adversary: Start SCAN_NEIGHBOR at 996.5s.\n",
      "Adversary: Processed SCAN_NEIGHBOR at 1001.5s.\n",
      "Adversary: Start ENUM_HOST at 1001.5s.\n",
      "Adversary: Processed ENUM_HOST at 1006.5s.\n",
      "Adversary: Start ENUM_HOST at 1006.5s.\n",
      "Adversary: Processed ENUM_HOST at 1011.5s.\n",
      "Adversary: Start SCAN_PORT at 1011.5s.\n",
      "Adversary: Processed SCAN_PORT at 1036.5s.\n",
      "Adversary: Start BRUTE_FORCE at 1069.1s.\n",
      "Period from 3.583 to 4.092\n",
      "Adversary: Processed BRUTE_FORCE at 1089.1s.\n",
      "Adversary: Start ENUM_HOST at 1089.1s.\n",
      "Adversary: Processed ENUM_HOST at 1094.1s.\n",
      "Adversary: Start SCAN_PORT at 1094.1s.\n",
      "Adversary: Processed SCAN_PORT at 1119.1s.\n",
      "Adversary: Start SCAN_HOST at 1143.4s.\n",
      "Adversary: Processed SCAN_HOST at 1148.4s.\n",
      "Adversary: Start ENUM_HOST at 1148.4s.\n",
      "Adversary: Processed ENUM_HOST at 1153.4s.\n",
      "Adversary: Start SCAN_PORT at 1153.4s.\n",
      "Adversary: Processed SCAN_PORT at 1178.4s.\n",
      "Adversary: Start SCAN_NEIGHBOR at 1201.9s.\n",
      "Adversary: Processed SCAN_NEIGHBOR at 1206.9s.\n",
      "Adversary: Start ENUM_HOST at 1206.9s.\n",
      "Adversary: Processed ENUM_HOST at 1211.9s.\n",
      "Adversary: Start ENUM_HOST at 1211.9s.\n",
      "Adversary: Processed ENUM_HOST at 1216.9s.\n",
      "Adversary: Start SCAN_PORT at 1216.9s.\n",
      "Period from 4.092 to 4.632\n",
      "Adversary: Processed SCAN_PORT at 1241.9s.\n",
      "Adversary: Start SCAN_PORT at 1304.3s.\n",
      "Adversary: Processed SCAN_PORT at 1329.3s.\n",
      "Period from 4.632 to 5.143\n",
      "Adversary: Start BRUTE_FORCE at 1411.2s.\n",
      "Adversary: Processed BRUTE_FORCE at 1431.2s.\n",
      "Adversary: Start ENUM_HOST at 1431.2s.\n",
      "Adversary: Processed ENUM_HOST at 1436.2s.\n",
      "Adversary: Start SCAN_PORT at 1436.2s.\n",
      "Adversary: Processed SCAN_PORT at 1461.2s.\n",
      "Adversary: Start SCAN_PORT at 1503.0s.\n",
      "Adversary: Processed SCAN_PORT at 1528.0s.\n",
      "Period from 5.143 to 5.658\n",
      "Adversary: Start SCAN_NEIGHBOR at 1642.0s.\n",
      "Adversary: Processed SCAN_NEIGHBOR at 1647.0s.\n",
      "Adversary: Start ENUM_HOST at 1647.0s.\n",
      "Adversary: Processed ENUM_HOST at 1652.0s.\n",
      "Adversary: Start SCAN_PORT at 1652.0s.\n",
      "Adversary: Processed SCAN_PORT at 1677.0s.\n",
      "Period from 5.658 to 6.169\n",
      "Adversary: Start SCAN_HOST at 1743.5s.\n",
      "Adversary: Processed SCAN_HOST at 1748.5s.\n",
      "Adversary: Start ENUM_HOST at 1748.5s.\n",
      "Adversary: Processed ENUM_HOST at 1753.5s.\n",
      "Adversary: Start SCAN_PORT at 1753.5s.\n",
      "Adversary: Processed SCAN_PORT at 1778.5s.\n",
      "Period from 6.169 to 6.695\n",
      "Adversary: Start SCAN_NEIGHBOR at 1897.3s.\n",
      "Adversary: Processed SCAN_NEIGHBOR at 1902.3s.\n",
      "Adversary: Start ENUM_HOST at 1902.3s.\n",
      "Adversary: Processed ENUM_HOST at 1907.3s.\n",
      "Adversary: Start ENUM_HOST at 1907.3s.\n",
      "Adversary: Processed ENUM_HOST at 1912.3s.\n",
      "Adversary: Start SCAN_PORT at 1912.3s.\n",
      "Adversary: Start SCAN_HOST at 1945.0s.\n",
      "Adversary: Processed SCAN_HOST at 1950.0s.\n",
      "Adversary: Start ENUM_HOST at 1950.0s.\n",
      "Adversary: Processed ENUM_HOST at 1955.0s.\n",
      "Adversary: Start SCAN_PORT at 1955.0s.\n",
      "Adversary: Processed SCAN_PORT at 1980.0s.\n",
      "Period from 6.695 to 7.227\n",
      "Adversary: Start BRUTE_FORCE at 2078.1s.\n",
      "Adversary: Start SCAN_PORT at 2104.2s.\n",
      "Adversary: Processed SCAN_PORT at 2129.2s.\n",
      "Period from 7.227 to 7.740\n",
      "Adversary: Start BRUTE_FORCE at 2197.2s.\n",
      "Adversary: Processed BRUTE_FORCE at 2217.2s.\n",
      "Adversary: Start ENUM_HOST at 2217.2s.\n",
      "Adversary: Processed ENUM_HOST at 2222.2s.\n",
      "Adversary: Start SCAN_PORT at 2222.2s.\n",
      "Adversary: Processed SCAN_PORT at 2247.2s.\n",
      "Period from 7.740 to 8.245\n",
      "Adversary: Start SCAN_HOST at 2333.7s.\n",
      "Adversary: Processed SCAN_HOST at 2338.7s.\n",
      "Adversary: Start ENUM_HOST at 2338.7s.\n",
      "Adversary: Processed ENUM_HOST at 2343.7s.\n",
      "Adversary: Start SCAN_PORT at 2343.7s.\n",
      "Adversary: Processed SCAN_PORT at 2368.7s.\n",
      "Period from 8.245 to 8.758\n",
      "Adversary: Start SCAN_HOST at 2534.6s.\n",
      "Adversary: Processed SCAN_HOST at 2539.6s.\n",
      "Adversary: Start ENUM_HOST at 2539.6s.\n",
      "Adversary: Processed ENUM_HOST at 2544.6s.\n",
      "Adversary: Start SCAN_PORT at 2544.6s.\n",
      "Adversary: Processed SCAN_PORT at 2569.6s.\n",
      "Period from 8.758 to 9.270\n",
      "Adversary: Start SCAN_PORT at 2705.2s.\n",
      "Adversary: Processed SCAN_PORT at 2730.2s.\n",
      "Period from 9.270 to 9.780\n",
      "Adversary: Start SCAN_PORT at 2905.5s.\n",
      "Adversary: Processed SCAN_PORT at 2930.5s.\n",
      "Period from 9.780 to 10.285\n"
     ]
    }
   ],
   "source": [
    "game_thread = threading.Thread(target=start_game)\n",
    "game_thread.start()\n",
    "time.sleep(12)"
   ]
  },
  {
   "cell_type": "code",
   "execution_count": 19,
   "id": "d862f35a",
   "metadata": {},
   "outputs": [],
   "source": [
    "compromised_hosts = game_instance.adversary.get_compromised_hosts()"
   ]
  },
  {
   "cell_type": "code",
   "execution_count": 20,
   "id": "a1448152",
   "metadata": {},
   "outputs": [
    {
     "data": {
      "text/plain": [
       "[0, 8, 9, 5, 19, 6]"
      ]
     },
     "execution_count": 20,
     "metadata": {},
     "output_type": "execute_result"
    }
   ],
   "source": [
    "compromised_hosts"
   ]
  },
  {
   "cell_type": "code",
   "execution_count": 21,
   "id": "1db7903a",
   "metadata": {},
   "outputs": [],
   "source": [
    "visible_network = game_instance.time_network.get_hacker_visible_graph()"
   ]
  },
  {
   "cell_type": "code",
   "execution_count": 25,
   "id": "a9fbcd79",
   "metadata": {},
   "outputs": [],
   "source": [
    "uncompromised_hosts = []\n",
    "network = game_instance.time_network\n",
    "# Add every uncompromised host that is reachable and is not an exposed or compromised host\n",
    "for c_host in compromised_hosts:\n",
    "    uncompromised_hosts = uncompromised_hosts + [\n",
    "        neighbor\n",
    "        for neighbor in network.graph.neighbors(c_host)\n",
    "        if neighbor not in compromised_hosts and neighbor not in network.exposed_endpoints and\n",
    "           len(network.get_path_from_exposed(neighbor, graph=visible_network)[0]) > 0\n",
    "    ]\n",
    "\n",
    "uncompromised_hosts = uncompromised_hosts + [\n",
    "            ex_node\n",
    "            for ex_node in network.exposed_endpoints\n",
    "            if ex_node not in compromised_hosts\n",
    "        ]"
   ]
  },
  {
   "cell_type": "code",
   "execution_count": 26,
   "id": "faeb2087",
   "metadata": {},
   "outputs": [
    {
     "data": {
      "text/plain": [
       "[17, 7, 17, 1, 2, 3, 4]"
      ]
     },
     "execution_count": 26,
     "metadata": {},
     "output_type": "execute_result"
    }
   ],
   "source": [
    "uncompromised_hosts"
   ]
  },
  {
   "cell_type": "code",
   "execution_count": 27,
   "id": "b8c89763",
   "metadata": {},
   "outputs": [],
   "source": [
    "stop_attack = game_instance.adversary.get_stop_attack()"
   ]
  },
  {
   "cell_type": "code",
   "execution_count": 28,
   "id": "5f8ee105",
   "metadata": {},
   "outputs": [],
   "source": [
    "discovered_hosts = [n for n in uncompromised_hosts if n not in stop_attack]"
   ]
  },
  {
   "cell_type": "code",
   "execution_count": 29,
   "id": "2e6f990e",
   "metadata": {},
   "outputs": [
    {
     "data": {
      "text/plain": [
       "[17, 7, 17, 1, 2, 3, 4]"
      ]
     },
     "execution_count": 29,
     "metadata": {},
     "output_type": "execute_result"
    }
   ],
   "source": [
    "discovered_hosts"
   ]
  },
  {
   "cell_type": "code",
   "execution_count": 30,
   "id": "bb4d99cc",
   "metadata": {},
   "outputs": [
    {
     "data": {
      "text/plain": [
       "[0, 8, 9, 5, 19, 6, 17, 7, 17, 1, 2, 3, 4]"
      ]
     },
     "execution_count": 30,
     "metadata": {},
     "output_type": "execute_result"
    }
   ],
   "source": [
    "compromised_hosts + uncompromised_hosts"
   ]
  },
  {
   "cell_type": "code",
   "execution_count": 31,
   "id": "9baa1481",
   "metadata": {},
   "outputs": [],
   "source": [
    "adversary = game_instance.adversary\n",
    "adversary.set_curr_process('SCAN_HOST')\n",
    "network = game_instance.time_network\n",
    "adversary.set_host_stack(network.sort_by_distance_from_exposed_and_pivot_host(\n",
    "            adversary.get_host_stack(),\n",
    "            adversary.get_compromised_hosts(),\n",
    "            pivot_host_id=adversary.get_pivot_host_id()\n",
    "        ))"
   ]
  },
  {
   "cell_type": "code",
   "execution_count": 35,
   "id": "ebaa530f",
   "metadata": {},
   "outputs": [
    {
     "data": {
      "text/plain": [
       "[3, 4]"
      ]
     },
     "execution_count": 35,
     "metadata": {},
     "output_type": "execute_result"
    }
   ],
   "source": [
    "adversary.get_host_stack()"
   ]
  },
  {
   "cell_type": "code",
   "execution_count": 36,
   "id": "fef4326e",
   "metadata": {},
   "outputs": [
    {
     "data": {
      "text/plain": [
       "[4410, 49998, 19680, 31376, 28235, 48306, 3762, 32627, 44945, 32164, 45230]"
      ]
     },
     "execution_count": 36,
     "metadata": {},
     "output_type": "execute_result"
    }
   ],
   "source": [
    "adversary.get_curr_host().port_scan()"
   ]
  },
  {
   "cell_type": "code",
   "execution_count": 37,
   "id": "f133cc9b",
   "metadata": {},
   "outputs": [
    {
     "data": {
      "text/plain": [
       "[<mtdnetwork.component.services.Vulnerability at 0x7fab8cd2cd60>,\n",
       " <mtdnetwork.component.services.Vulnerability at 0x7fab8cd2cdc0>,\n",
       " <mtdnetwork.component.services.Vulnerability at 0x7fab8cd2cca0>,\n",
       " <mtdnetwork.component.services.Vulnerability at 0x7fab8cd2cc40>,\n",
       " <mtdnetwork.component.services.Vulnerability at 0x7fab8cd2cd00>,\n",
       " <mtdnetwork.component.services.Vulnerability at 0x7fab8d762530>,\n",
       " <mtdnetwork.component.services.Vulnerability at 0x7fab8d762560>,\n",
       " <mtdnetwork.component.services.Vulnerability at 0x7fab8d7625c0>,\n",
       " <mtdnetwork.component.services.Vulnerability at 0x7fab8d762680>,\n",
       " <mtdnetwork.component.services.Vulnerability at 0x7fab8d7624d0>,\n",
       " <mtdnetwork.component.services.Vulnerability at 0x7fab8d762530>,\n",
       " <mtdnetwork.component.services.Vulnerability at 0x7fab8d762560>,\n",
       " <mtdnetwork.component.services.Vulnerability at 0x7fab8d7625c0>,\n",
       " <mtdnetwork.component.services.Vulnerability at 0x7fab8d762680>,\n",
       " <mtdnetwork.component.services.Vulnerability at 0x7fab8d7624d0>,\n",
       " <mtdnetwork.component.services.Vulnerability at 0x7fab8ccd4d00>,\n",
       " <mtdnetwork.component.services.Vulnerability at 0x7fab8ccd4dc0>,\n",
       " <mtdnetwork.component.services.Vulnerability at 0x7fab8ccd4d60>,\n",
       " <mtdnetwork.component.services.Vulnerability at 0x7fab8ccd4ca0>,\n",
       " <mtdnetwork.component.services.Vulnerability at 0x7fab8ccd4e20>,\n",
       " <mtdnetwork.component.services.Vulnerability at 0x7fab8ce200a0>,\n",
       " <mtdnetwork.component.services.Vulnerability at 0x7fab8ce20040>,\n",
       " <mtdnetwork.component.services.Vulnerability at 0x7fab8cd6fd90>,\n",
       " <mtdnetwork.component.services.Vulnerability at 0x7fab8cd6fee0>,\n",
       " <mtdnetwork.component.services.Vulnerability at 0x7fab8cd6fbe0>,\n",
       " <mtdnetwork.component.services.Vulnerability at 0x7fab8cafecb0>,\n",
       " <mtdnetwork.component.services.Vulnerability at 0x7fab8cafee00>,\n",
       " <mtdnetwork.component.services.Vulnerability at 0x7fab8caefb50>,\n",
       " <mtdnetwork.component.services.Vulnerability at 0x7fab8cafee60>,\n",
       " <mtdnetwork.component.services.Vulnerability at 0x7fab8cafeda0>,\n",
       " <mtdnetwork.component.services.Vulnerability at 0x7fab8caaea10>,\n",
       " <mtdnetwork.component.services.Vulnerability at 0x7fab8caaeb90>,\n",
       " <mtdnetwork.component.services.Vulnerability at 0x7fab8caaebf0>,\n",
       " <mtdnetwork.component.services.Vulnerability at 0x7fab8caaead0>,\n",
       " <mtdnetwork.component.services.Vulnerability at 0x7fab8caaeb30>,\n",
       " <mtdnetwork.component.services.Vulnerability at 0x7fab8caaea10>,\n",
       " <mtdnetwork.component.services.Vulnerability at 0x7fab8caaeb90>,\n",
       " <mtdnetwork.component.services.Vulnerability at 0x7fab8caaebf0>,\n",
       " <mtdnetwork.component.services.Vulnerability at 0x7fab8caaead0>,\n",
       " <mtdnetwork.component.services.Vulnerability at 0x7fab8caaeb30>,\n",
       " <mtdnetwork.component.services.Vulnerability at 0x7fab8ccb3340>,\n",
       " <mtdnetwork.component.services.Vulnerability at 0x7fab8ccb33a0>,\n",
       " <mtdnetwork.component.services.Vulnerability at 0x7fab8ccb32e0>,\n",
       " <mtdnetwork.component.services.Vulnerability at 0x7fab8ccb3520>,\n",
       " <mtdnetwork.component.services.Vulnerability at 0x7fab8ccb3460>,\n",
       " <mtdnetwork.component.services.Vulnerability at 0x7fab8caefc70>,\n",
       " <mtdnetwork.component.services.Vulnerability at 0x7fab8caefe20>,\n",
       " <mtdnetwork.component.services.Vulnerability at 0x7fab8caefcd0>,\n",
       " <mtdnetwork.component.services.Vulnerability at 0x7fab8caefd30>,\n",
       " <mtdnetwork.component.services.Vulnerability at 0x7fab8caefb80>,\n",
       " <mtdnetwork.component.services.Vulnerability at 0x7fab8d70c5b0>,\n",
       " <mtdnetwork.component.services.Vulnerability at 0x7fab8d70f760>,\n",
       " <mtdnetwork.component.services.Vulnerability at 0x7fabd0042980>]"
      ]
     },
     "execution_count": 37,
     "metadata": {},
     "output_type": "execute_result"
    }
   ],
   "source": [
    "adversary.set_curr_vulns(adversary.get_curr_host().get_vulns(adversary.get_curr_ports()))\n",
    "adversary.get_curr_vulns()"
   ]
  },
  {
   "cell_type": "code",
   "execution_count": null,
   "id": "dab0e5bc",
   "metadata": {},
   "outputs": [],
   "source": []
  }
 ],
 "metadata": {
  "kernelspec": {
   "display_name": "Python 3 (ipykernel)",
   "language": "python",
   "name": "python3"
  },
  "language_info": {
   "codemirror_mode": {
    "name": "ipython",
    "version": 3
   },
   "file_extension": ".py",
   "mimetype": "text/x-python",
   "name": "python",
   "nbconvert_exporter": "python",
   "pygments_lexer": "ipython3",
   "version": "3.10.9"
  }
 },
 "nbformat": 4,
 "nbformat_minor": 5
}
