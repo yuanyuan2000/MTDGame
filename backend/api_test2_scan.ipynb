{
 "cells": [
  {
   "cell_type": "code",
   "execution_count": 1,
   "id": "511c4350",
   "metadata": {},
   "outputs": [
    {
     "name": "stderr",
     "output_type": "stream",
     "text": [
      "Note: NumExpr detected 12 cores but \"NUMEXPR_MAX_THREADS\" not set, so enforcing safe limit of 8.\n",
      "NumExpr defaulting to 8 threads.\n"
     ]
    }
   ],
   "source": [
    "from game import Game\n",
    "import threading\n",
    "import time\n",
    "import random"
   ]
  },
  {
   "cell_type": "code",
   "execution_count": 2,
   "id": "21f53bf1",
   "metadata": {},
   "outputs": [],
   "source": [
    "game_instance = Game()"
   ]
  },
  {
   "cell_type": "code",
   "execution_count": 3,
   "id": "7a52f34f",
   "metadata": {},
   "outputs": [],
   "source": [
    "def start_game():\n",
    "    # start the game\n",
    "    if not game_instance.get_isrunning():\n",
    "        game_instance.start()"
   ]
  },
  {
   "cell_type": "code",
   "execution_count": 4,
   "id": "b105ff4f",
   "metadata": {},
   "outputs": [],
   "source": [
    "def transform_nodes(old_nodes):\n",
    "    # print('-------------',type(old_nodes))\n",
    "    new_nodes = []\n",
    "    for node in old_nodes:\n",
    "        new_node = {\n",
    "            \"id\": node.id,\n",
    "            \"label\": str(node.id),\n",
    "            \"layer\": 1,\n",
    "            \"x\": node.x,\n",
    "            \"y\": node.y,\n",
    "            \"color\": {\"background\": str(node.color)},\n",
    "            \"value\": 30,\n",
    "        }\n",
    "        new_nodes.append(new_node)\n",
    "        # print(new_node)\n",
    "    return new_nodes\n",
    "\n",
    "def transform_edges(edges):\n",
    "    transformed_edges = []\n",
    "    for idx, edge in enumerate(edges, start=1):\n",
    "        transformed_edges.append({\n",
    "            \"id\": idx,\n",
    "            \"from\": edge[0],\n",
    "            \"to\": edge[1]\n",
    "        })\n",
    "    return transformed_edges"
   ]
  },
  {
   "cell_type": "code",
   "execution_count": 5,
   "id": "a66ccdc2",
   "metadata": {},
   "outputs": [
    {
     "name": "stderr",
     "output_type": "stream",
     "text": [
      "Period from 0.000 to 0.501\n",
      "Adversary: Start SCAN_HOST at 0.0s.\n",
      "Adversary: Processed SCAN_HOST at 5.0s.\n",
      "Adversary: Start ENUM_HOST at 5.0s.\n",
      "Adversary: Processed ENUM_HOST at 10.0s.\n",
      "Adversary: Start SCAN_PORT at 10.0s.\n",
      "Adversary: Processed SCAN_PORT at 35.0s.\n",
      "Adversary: Start SCAN_PORT at 90.9s.\n",
      "Adversary: Processed SCAN_PORT at 115.9s.\n"
     ]
    },
    {
     "name": "stdout",
     "output_type": "stream",
     "text": [
      "No host with ID <mtdnetwork.component.adversary.Adversary object at 0x7fed494bfaf0> found.\n"
     ]
    },
    {
     "name": "stderr",
     "output_type": "stream",
     "text": [
      "Period from 0.501 to 1.015\n",
      "Adversary: Start SCAN_PORT at 303.6s.\n",
      "Period from 1.015 to 1.526\n",
      "Adversary: Processed SCAN_PORT at 328.6s.\n",
      "Adversary: Start SCAN_NEIGHBOR at 451.9s.\n",
      "Adversary: Processed SCAN_NEIGHBOR at 456.9s.\n",
      "Adversary: Start ENUM_HOST at 456.9s.\n",
      "Period from 1.526 to 2.039\n",
      "Adversary: Processed ENUM_HOST at 461.9s.\n",
      "Adversary: Start SCAN_PORT at 461.9s.\n",
      "Adversary: Start SCAN_PORT at 503.2s.\n",
      "Adversary: Processed SCAN_PORT at 528.2s.\n",
      "Adversary: Start SCAN_NEIGHBOR at 568.9s.\n",
      "Adversary: Processed SCAN_NEIGHBOR at 573.9s.\n",
      "Adversary: Start ENUM_HOST at 573.9s.\n",
      "Adversary: Processed ENUM_HOST at 578.9s.\n",
      "Adversary: Start SCAN_PORT at 578.9s.\n",
      "Adversary: Processed SCAN_PORT at 603.9s.\n",
      "Period from 2.039 to 2.557\n",
      "Adversary: Start SCAN_PORT at 694.0s.\n",
      "Adversary: Processed SCAN_PORT at 719.0s.\n"
     ]
    },
    {
     "name": "stdout",
     "output_type": "stream",
     "text": [
      "No host with ID <mtdnetwork.component.adversary.Adversary object at 0x7fed494bfaf0> found.\n"
     ]
    },
    {
     "name": "stderr",
     "output_type": "stream",
     "text": [
      "Period from 2.557 to 3.063\n",
      "Adversary: Start SCAN_PORT at 894.7s.\n"
     ]
    },
    {
     "name": "stdout",
     "output_type": "stream",
     "text": [
      "No host with ID <mtdnetwork.component.adversary.Adversary object at 0x7fed494bfaf0> found.\n"
     ]
    },
    {
     "name": "stderr",
     "output_type": "stream",
     "text": [
      "Period from 3.063 to 3.569\n",
      "Adversary: Processed SCAN_PORT at 919.7s.\n",
      "Adversary: Start SCAN_NEIGHBOR at 1064.3s.\n",
      "Adversary: Processed SCAN_NEIGHBOR at 1069.3s.\n",
      "Adversary: Start ENUM_HOST at 1069.3s.\n",
      "Period from 3.569 to 4.078\n",
      "Adversary: Processed ENUM_HOST at 1074.3s.\n",
      "Adversary: Start SCAN_PORT at 1074.3s.\n",
      "Adversary: Processed SCAN_PORT at 1099.3s.\n",
      "Adversary: Start SCAN_HOST at 1134.0s.\n",
      "Adversary: Processed SCAN_HOST at 1139.0s.\n",
      "Adversary: Start ENUM_HOST at 1139.0s.\n",
      "Adversary: Processed ENUM_HOST at 1144.0s.\n",
      "Adversary: Start SCAN_PORT at 1144.0s.\n",
      "Adversary: Processed SCAN_PORT at 1169.0s.\n",
      "Period from 4.078 to 4.589\n",
      "Adversary: Start SCAN_NEIGHBOR at 1227.0s.\n",
      "Adversary: Processed SCAN_NEIGHBOR at 1232.0s.\n",
      "Adversary: Start ENUM_HOST at 1232.0s.\n",
      "Adversary: Processed ENUM_HOST at 1237.0s.\n",
      "Adversary: Start ENUM_HOST at 1237.0s.\n",
      "Adversary: Processed ENUM_HOST at 1242.0s.\n",
      "Adversary: Start SCAN_PORT at 1242.0s.\n",
      "Adversary: Processed SCAN_PORT at 1267.0s.\n",
      "Adversary: Start BRUTE_FORCE at 1278.9s.\n",
      "Adversary: Processed BRUTE_FORCE at 1298.9s.\n",
      "Adversary: Start ENUM_HOST at 1298.9s.\n",
      "Adversary: Processed ENUM_HOST at 1303.9s.\n",
      "Adversary: Start SCAN_PORT at 1303.9s.\n",
      "Adversary: Start SCAN_HOST at 1345.3s.\n",
      "Adversary: Processed SCAN_HOST at 1350.3s.\n",
      "Adversary: Start ENUM_HOST at 1350.3s.\n",
      "Adversary: Processed ENUM_HOST at 1355.3s.\n",
      "Adversary: Start SCAN_PORT at 1355.3s.\n",
      "Period from 4.589 to 5.123\n",
      "Adversary: Processed SCAN_PORT at 1380.3s.\n",
      "Adversary: Start BRUTE_FORCE at 1464.8s.\n",
      "Adversary: Start SCAN_PORT at 1495.0s.\n",
      "Adversary: Processed SCAN_PORT at 1520.0s.\n"
     ]
    },
    {
     "name": "stdout",
     "output_type": "stream",
     "text": [
      "No host with ID <mtdnetwork.component.adversary.Adversary object at 0x7fed494bfaf0> found.\n"
     ]
    },
    {
     "name": "stderr",
     "output_type": "stream",
     "text": [
      "Period from 5.123 to 5.626\n",
      "Adversary: Start SCAN_NEIGHBOR at 1561.4s.\n",
      "Adversary: Processed SCAN_NEIGHBOR at 1566.4s.\n",
      "Adversary: Start ENUM_HOST at 1566.4s.\n",
      "Adversary: Processed ENUM_HOST at 1571.4s.\n",
      "Adversary: Start ENUM_HOST at 1571.4s.\n",
      "Adversary: Processed ENUM_HOST at 1576.4s.\n",
      "Adversary: Start SCAN_PORT at 1576.4s.\n",
      "Adversary: Processed SCAN_PORT at 1601.4s.\n",
      "Period from 5.626 to 6.139\n",
      "Adversary: Start SCAN_HOST at 1744.7s.\n",
      "Adversary: Processed SCAN_HOST at 1749.7s.\n",
      "Adversary: Start ENUM_HOST at 1749.7s.\n",
      "Adversary: Processed ENUM_HOST at 1754.7s.\n",
      "Adversary: Start SCAN_PORT at 1754.7s.\n",
      "Adversary: Processed SCAN_PORT at 1779.7s.\n",
      "Period from 6.139 to 6.670\n",
      "Adversary: Start SCAN_HOST at 1935.2s.\n",
      "Adversary: Processed SCAN_HOST at 1940.2s.\n",
      "Adversary: Start ENUM_HOST at 1940.2s.\n",
      "Adversary: Processed ENUM_HOST at 1945.2s.\n",
      "Adversary: Start SCAN_PORT at 1945.2s.\n",
      "Adversary: Processed SCAN_PORT at 1970.2s.\n",
      "Period from 6.670 to 7.181\n",
      "Adversary: Start SCAN_HOST at 2146.0s.\n",
      "Adversary: Processed SCAN_HOST at 2151.0s.\n",
      "Adversary: Start ENUM_HOST at 2151.0s.\n",
      "Period from 7.181 to 7.705\n",
      "Adversary: Processed ENUM_HOST at 2156.0s.\n",
      "Adversary: Start SCAN_PORT at 2156.0s.\n",
      "Adversary: Processed SCAN_PORT at 2181.0s.\n",
      "Adversary: Start SCAN_NEIGHBOR at 2212.7s.\n",
      "Adversary: Processed SCAN_NEIGHBOR at 2217.7s.\n",
      "Adversary: Start ENUM_HOST at 2217.7s.\n",
      "Adversary: Processed ENUM_HOST at 2222.7s.\n",
      "Adversary: Start ENUM_HOST at 2222.7s.\n",
      "Adversary: Processed ENUM_HOST at 2227.7s.\n",
      "Adversary: Start ENUM_HOST at 2227.7s.\n",
      "Adversary: Processed ENUM_HOST at 2232.7s.\n",
      "Adversary: Start ENUM_HOST at 2232.7s.\n",
      "Adversary: Processed ENUM_HOST at 2237.7s.\n",
      "Adversary: Start SCAN_PORT at 2237.7s.\n",
      "Adversary: Processed SCAN_PORT at 2262.7s.\n",
      "Period from 7.705 to 8.224\n",
      "Adversary: Start SCAN_HOST at 2345.8s.\n",
      "Adversary: Processed SCAN_HOST at 2350.8s.\n",
      "Adversary: Start ENUM_HOST at 2350.8s.\n",
      "Adversary: Processed ENUM_HOST at 2355.8s.\n",
      "Adversary: Start SCAN_PORT at 2355.8s.\n",
      "Adversary: Processed SCAN_PORT at 2380.8s.\n",
      "Adversary: Start SCAN_NEIGHBOR at 2446.1s.\n",
      "Adversary: Processed SCAN_NEIGHBOR at 2451.1s.\n",
      "Adversary: Start ENUM_HOST at 2451.1s.\n",
      "Adversary: Processed ENUM_HOST at 2456.1s.\n",
      "Adversary: Start SCAN_PORT at 2456.1s.\n",
      "Period from 8.224 to 8.751\n",
      "Adversary: Processed SCAN_PORT at 2481.1s.\n",
      "Adversary: Start SCAN_NEIGHBOR at 2492.5s.\n",
      "Adversary: Processed SCAN_NEIGHBOR at 2497.5s.\n",
      "Adversary: Start ENUM_HOST at 2497.5s.\n",
      "Adversary: Processed ENUM_HOST at 2502.5s.\n",
      "Adversary: Start ENUM_HOST at 2502.5s.\n",
      "Adversary: Processed ENUM_HOST at 2507.5s.\n",
      "Adversary: Start SCAN_PORT at 2507.5s.\n",
      "Adversary: Start SCAN_HOST at 2538.5s.\n",
      "Adversary: Processed SCAN_HOST at 2543.5s.\n",
      "Adversary: Start ENUM_HOST at 2543.5s.\n",
      "Adversary: Processed ENUM_HOST at 2548.5s.\n",
      "Adversary: Start SCAN_PORT at 2548.5s.\n",
      "Adversary: Processed SCAN_PORT at 2573.5s.\n",
      "Adversary: Start BRUTE_FORCE at 2573.5s.\n",
      "Adversary: Processed BRUTE_FORCE at 2593.5s.\n",
      "Adversary: Start ENUM_HOST at 2593.5s.\n",
      "Adversary: Processed ENUM_HOST at 2598.5s.\n",
      "Adversary: Start SCAN_PORT at 2598.5s.\n",
      "Adversary: Processed SCAN_PORT at 2623.5s.\n",
      "Period from 8.751 to 9.262\n",
      "Adversary: Start SCAN_NEIGHBOR at 2673.2s.\n",
      "Adversary: Processed SCAN_NEIGHBOR at 2678.2s.\n",
      "Adversary: Start ENUM_HOST at 2678.2s.\n",
      "Adversary: Processed ENUM_HOST at 2683.2s.\n",
      "Adversary: Start ENUM_HOST at 2683.2s.\n",
      "Adversary: Processed ENUM_HOST at 2688.2s.\n",
      "Adversary: Start SCAN_PORT at 2688.2s.\n",
      "Adversary: Processed SCAN_PORT at 2713.2s.\n",
      "Period from 9.262 to 9.775\n",
      "Adversary: Start SCAN_NEIGHBOR at 2795.4s.\n",
      "Adversary: Processed SCAN_NEIGHBOR at 2800.4s.\n",
      "Adversary: Start ENUM_HOST at 2800.4s.\n",
      "Adversary: Processed ENUM_HOST at 2805.4s.\n",
      "Adversary: Start SCAN_PORT at 2805.4s.\n",
      "Adversary: Processed SCAN_PORT at 2830.4s.\n",
      "Adversary: Start SCAN_NEIGHBOR at 2865.7s.\n",
      "Adversary: Processed SCAN_NEIGHBOR at 2870.7s.\n",
      "Adversary: Start ENUM_HOST at 2870.7s.\n",
      "Adversary: Processed ENUM_HOST at 2875.7s.\n",
      "Adversary: Start SCAN_PORT at 2875.7s.\n",
      "Adversary: Start SCAN_PORT at 2897.5s.\n",
      "Adversary: Processed SCAN_PORT at 2922.5s.\n"
     ]
    },
    {
     "name": "stdout",
     "output_type": "stream",
     "text": [
      "No host with ID <mtdnetwork.component.adversary.Adversary object at 0x7fed494bfaf0> found.\n"
     ]
    },
    {
     "name": "stderr",
     "output_type": "stream",
     "text": [
      "Period from 9.775 to 10.289\n"
     ]
    }
   ],
   "source": [
    "game_thread = threading.Thread(target=start_game)\n",
    "game_thread.start()\n",
    "time.sleep(12)"
   ]
  },
  {
   "cell_type": "code",
   "execution_count": 6,
   "id": "d862f35a",
   "metadata": {},
   "outputs": [],
   "source": [
    "compromised_hosts = game_instance.adversary.get_compromised_hosts()"
   ]
  },
  {
   "cell_type": "code",
   "execution_count": 7,
   "id": "a1448152",
   "metadata": {},
   "outputs": [
    {
     "data": {
      "text/plain": [
       "[0, 9, 7, 5, 8, 6, 12, 13, 14, 19, 16]"
      ]
     },
     "execution_count": 7,
     "metadata": {},
     "output_type": "execute_result"
    }
   ],
   "source": [
    "compromised_hosts"
   ]
  },
  {
   "cell_type": "code",
   "execution_count": 8,
   "id": "1db7903a",
   "metadata": {},
   "outputs": [],
   "source": [
    "visible_network = game_instance.time_network.get_hacker_visible_graph()"
   ]
  },
  {
   "cell_type": "code",
   "execution_count": 9,
   "id": "a9fbcd79",
   "metadata": {},
   "outputs": [],
   "source": [
    "uncompromised_hosts = []\n",
    "network = game_instance.time_network\n",
    "# Add every uncompromised host that is reachable and is not an exposed or compromised host\n",
    "for c_host in compromised_hosts:\n",
    "    uncompromised_hosts = uncompromised_hosts + [\n",
    "        neighbor\n",
    "        for neighbor in network.graph.neighbors(c_host)\n",
    "        if neighbor not in compromised_hosts and neighbor not in network.exposed_endpoints and\n",
    "           len(network.get_path_from_exposed(neighbor, graph=visible_network)[0]) > 0\n",
    "    ]\n",
    "\n",
    "uncompromised_hosts = uncompromised_hosts + [\n",
    "            ex_node\n",
    "            for ex_node in network.exposed_endpoints\n",
    "            if ex_node not in compromised_hosts\n",
    "        ]"
   ]
  },
  {
   "cell_type": "code",
   "execution_count": 10,
   "id": "faeb2087",
   "metadata": {},
   "outputs": [
    {
     "data": {
      "text/plain": [
       "[11, 20, 22, 10, 15, 25, 20, 17, 18, 24, 1, 2, 3, 4]"
      ]
     },
     "execution_count": 10,
     "metadata": {},
     "output_type": "execute_result"
    }
   ],
   "source": [
    "uncompromised_hosts"
   ]
  },
  {
   "cell_type": "code",
   "execution_count": 11,
   "id": "b8c89763",
   "metadata": {},
   "outputs": [],
   "source": [
    "stop_attack = game_instance.adversary.get_stop_attack()"
   ]
  },
  {
   "cell_type": "code",
   "execution_count": 12,
   "id": "5f8ee105",
   "metadata": {},
   "outputs": [],
   "source": [
    "discovered_hosts = [n for n in uncompromised_hosts if n not in stop_attack]"
   ]
  },
  {
   "cell_type": "code",
   "execution_count": 13,
   "id": "2e6f990e",
   "metadata": {},
   "outputs": [
    {
     "data": {
      "text/plain": [
       "[11, 20, 22, 10, 15, 25, 20, 17, 18, 24, 1, 2, 3, 4]"
      ]
     },
     "execution_count": 13,
     "metadata": {},
     "output_type": "execute_result"
    }
   ],
   "source": [
    "discovered_hosts"
   ]
  },
  {
   "cell_type": "code",
   "execution_count": 14,
   "id": "bb4d99cc",
   "metadata": {},
   "outputs": [
    {
     "data": {
      "text/plain": [
       "[0,\n",
       " 9,\n",
       " 7,\n",
       " 5,\n",
       " 8,\n",
       " 6,\n",
       " 12,\n",
       " 13,\n",
       " 14,\n",
       " 19,\n",
       " 16,\n",
       " 11,\n",
       " 20,\n",
       " 22,\n",
       " 10,\n",
       " 15,\n",
       " 25,\n",
       " 20,\n",
       " 17,\n",
       " 18,\n",
       " 24,\n",
       " 1,\n",
       " 2,\n",
       " 3,\n",
       " 4]"
      ]
     },
     "execution_count": 14,
     "metadata": {},
     "output_type": "execute_result"
    }
   ],
   "source": [
    "compromised_hosts + uncompromised_hosts"
   ]
  },
  {
   "cell_type": "code",
   "execution_count": 15,
   "id": "9baa1481",
   "metadata": {},
   "outputs": [],
   "source": [
    "adversary = game_instance.adversary\n",
    "adversary.set_curr_process('SCAN_HOST')\n",
    "network = game_instance.time_network\n",
    "adversary.set_host_stack(network.sort_by_distance_from_exposed_and_pivot_host(\n",
    "            adversary.get_host_stack(),\n",
    "            adversary.get_compromised_hosts(),\n",
    "            pivot_host_id=adversary.get_pivot_host_id()\n",
    "        ))"
   ]
  },
  {
   "cell_type": "code",
   "execution_count": 16,
   "id": "ebaa530f",
   "metadata": {},
   "outputs": [
    {
     "data": {
      "text/plain": [
       "[24, 19, 17, 12, 10, 20, 25, 11, 22, 1, 2, 3, 4]"
      ]
     },
     "execution_count": 16,
     "metadata": {},
     "output_type": "execute_result"
    }
   ],
   "source": [
    "adversary.get_host_stack()"
   ]
  },
  {
   "cell_type": "code",
   "execution_count": 17,
   "id": "fef4326e",
   "metadata": {},
   "outputs": [
    {
     "data": {
      "text/plain": [
       "[53327, 31718, 34555, 25706, 24932, 3534, 63850, 22168, 62513]"
      ]
     },
     "execution_count": 17,
     "metadata": {},
     "output_type": "execute_result"
    }
   ],
   "source": [
    "adversary.get_curr_host().port_scan()"
   ]
  },
  {
   "cell_type": "code",
   "execution_count": 18,
   "id": "9be0a84f",
   "metadata": {},
   "outputs": [
    {
     "data": {
      "text/plain": [
       "False"
      ]
     },
     "execution_count": 18,
     "metadata": {},
     "output_type": "execute_result"
    }
   ],
   "source": [
    "adversary.get_curr_host().can_auto_compromise_with_users(adversary.get_compromised_users())"
   ]
  },
  {
   "cell_type": "code",
   "execution_count": 19,
   "id": "f133cc9b",
   "metadata": {},
   "outputs": [],
   "source": [
    "# adversary.set_curr_vulns(adversary.get_curr_host().get_vulns(adversary.get_curr_ports()))\n",
    "# adversary.get_curr_vulns()"
   ]
  },
  {
   "cell_type": "code",
   "execution_count": null,
   "id": "dab0e5bc",
   "metadata": {},
   "outputs": [],
   "source": []
  }
 ],
 "metadata": {
  "kernelspec": {
   "display_name": "Python 3 (ipykernel)",
   "language": "python",
   "name": "python3"
  },
  "language_info": {
   "codemirror_mode": {
    "name": "ipython",
    "version": 3
   },
   "file_extension": ".py",
   "mimetype": "text/x-python",
   "name": "python",
   "nbconvert_exporter": "python",
   "pygments_lexer": "ipython3",
   "version": "3.10.9"
  }
 },
 "nbformat": 4,
 "nbformat_minor": 5
}
