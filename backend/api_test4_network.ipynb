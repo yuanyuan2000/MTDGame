{
 "cells": [
  {
   "cell_type": "code",
   "execution_count": 1,
   "id": "d3a4cf9c",
   "metadata": {},
   "outputs": [
    {
     "name": "stderr",
     "output_type": "stream",
     "text": [
      "Note: NumExpr detected 12 cores but \"NUMEXPR_MAX_THREADS\" not set, so enforcing safe limit of 8.\n",
      "NumExpr defaulting to 8 threads.\n"
     ]
    }
   ],
   "source": [
    "from game import Game\n",
    "import threading\n",
    "import time"
   ]
  },
  {
   "cell_type": "code",
   "execution_count": 2,
   "id": "7c5cee87",
   "metadata": {},
   "outputs": [],
   "source": [
    "game_instance = Game()"
   ]
  },
  {
   "cell_type": "code",
   "execution_count": 3,
   "id": "70454331",
   "metadata": {},
   "outputs": [],
   "source": [
    "def start_game():\n",
    "    # start the game\n",
    "    if not game_instance.get_isrunning():\n",
    "        game_instance.start()"
   ]
  },
  {
   "cell_type": "code",
   "execution_count": 4,
   "id": "e0928c22",
   "metadata": {},
   "outputs": [],
   "source": [
    "def transform_nodes(old_nodes):\n",
    "    # print('-------------',type(old_nodes))\n",
    "    new_nodes = []\n",
    "    for node in old_nodes:\n",
    "        new_node = {\n",
    "            \"id\": node.id,\n",
    "            \"label\": str(node.id),\n",
    "            \"layer\": 1,\n",
    "            \"x\": node.x,\n",
    "            \"y\": node.y,\n",
    "            \"color\": {\"background\": str(node.color)},\n",
    "            \"value\": 30,\n",
    "        }\n",
    "        new_nodes.append(new_node)\n",
    "        # print(new_node)\n",
    "    return new_nodes\n",
    "\n",
    "def transform_edges(edges):\n",
    "    transformed_edges = []\n",
    "    for idx, edge in enumerate(edges, start=1):\n",
    "        transformed_edges.append({\n",
    "            \"id\": idx,\n",
    "            \"from\": edge[0],\n",
    "            \"to\": edge[1]\n",
    "        })\n",
    "    return transformed_edges"
   ]
  },
  {
   "cell_type": "code",
   "execution_count": 5,
   "id": "852878f3",
   "metadata": {},
   "outputs": [],
   "source": [
    "game_thread = threading.Thread(target=start_game)"
   ]
  },
  {
   "cell_type": "code",
   "execution_count": 6,
   "id": "d7387bd0",
   "metadata": {},
   "outputs": [],
   "source": [
    "game_thread.start()"
   ]
  },
  {
   "cell_type": "code",
   "execution_count": 7,
   "id": "8e38e6cf",
   "metadata": {},
   "outputs": [
    {
     "name": "stderr",
     "output_type": "stream",
     "text": [
      "Game mode: None; Creator role: None\n"
     ]
    }
   ],
   "source": [
    "time.sleep(1)"
   ]
  },
  {
   "cell_type": "code",
   "execution_count": 8,
   "id": "a5bdeb17",
   "metadata": {},
   "outputs": [
    {
     "data": {
      "text/plain": [
       "[<game.Node at 0x7faa0eaca230>,\n",
       " <game.Node at 0x7faa0eaca3e0>,\n",
       " <game.Node at 0x7faa0eaca410>,\n",
       " <game.Node at 0x7faa0eaca470>,\n",
       " <game.Node at 0x7faa0eaca4d0>,\n",
       " <game.Node at 0x7faa0eaca530>,\n",
       " <game.Node at 0x7faa0eaca590>,\n",
       " <game.Node at 0x7faa0eaca5f0>,\n",
       " <game.Node at 0x7faa0eaca650>,\n",
       " <game.Node at 0x7faa0eaca6b0>,\n",
       " <game.Node at 0x7faa0eaca710>,\n",
       " <game.Node at 0x7faa0eaca770>,\n",
       " <game.Node at 0x7faa0eaca7d0>,\n",
       " <game.Node at 0x7faa0eaca830>,\n",
       " <game.Node at 0x7faa0eaca890>,\n",
       " <game.Node at 0x7faa0eaca8f0>,\n",
       " <game.Node at 0x7faa0eaca950>,\n",
       " <game.Node at 0x7faa0eaca9b0>,\n",
       " <game.Node at 0x7faa0eacaa10>,\n",
       " <game.Node at 0x7faa0eacaa70>,\n",
       " <game.Node at 0x7faa0eacaad0>,\n",
       " <game.Node at 0x7faa0eacab30>,\n",
       " <game.Node at 0x7faa0eacab90>,\n",
       " <game.Node at 0x7faa0eacabf0>,\n",
       " <game.Node at 0x7faa0eacac50>,\n",
       " <game.Node at 0x7faa0eacacb0>,\n",
       " <game.Node at 0x7faa0eacad10>,\n",
       " <game.Node at 0x7faa0eacad70>,\n",
       " <game.Node at 0x7faa0eacadd0>,\n",
       " <game.Node at 0x7faa0eacae30>,\n",
       " <game.Node at 0x7faa0eacae90>,\n",
       " <game.Node at 0x7faa0eacaef0>]"
      ]
     },
     "execution_count": 8,
     "metadata": {},
     "output_type": "execute_result"
    }
   ],
   "source": [
    "game_instance.get_nodes()"
   ]
  },
  {
   "cell_type": "code",
   "execution_count": 9,
   "id": "c7556162",
   "metadata": {},
   "outputs": [
    {
     "data": {
      "text/plain": [
       "EdgeView([(0, 5), (0, 14), (1, 11), (2, 11), (3, 8), (4, 5), (5, 6), (5, 7), (5, 8), (5, 20), (5, 9), (5, 16), (9, 10), (10, 11), (10, 23), (10, 13), (12, 13), (12, 14), (15, 16), (15, 17), (16, 18), (17, 21), (18, 19), (20, 21), (20, 25), (20, 23), (21, 22), (21, 23), (21, 30), (23, 24), (23, 25), (25, 26), (26, 27), (28, 29), (28, 30), (28, 31)])"
      ]
     },
     "execution_count": 9,
     "metadata": {},
     "output_type": "execute_result"
    }
   ],
   "source": [
    "game_instance.get_edges()"
   ]
  },
  {
   "cell_type": "code",
   "execution_count": 10,
   "id": "1f6dcf5b",
   "metadata": {},
   "outputs": [],
   "source": [
    "nodes = transform_nodes(game_instance.get_nodes())\n",
    "edges = transform_edges(game_instance.get_edges())\n",
    "visible_hosts = game_instance.get_visible_hosts()"
   ]
  },
  {
   "cell_type": "code",
   "execution_count": 11,
   "id": "1b9d6a99",
   "metadata": {},
   "outputs": [
    {
     "data": {
      "text/plain": [
       "[{'id': 0,\n",
       "  'label': '0',\n",
       "  'layer': 1,\n",
       "  'x': 0.0,\n",
       "  'y': 103.21001746755064,\n",
       "  'color': {'background': 'green'},\n",
       "  'value': 30},\n",
       " {'id': 1,\n",
       "  'label': '1',\n",
       "  'layer': 1,\n",
       "  'x': 0.0,\n",
       "  'y': 202.40751310066298,\n",
       "  'color': {'background': 'green'},\n",
       "  'value': 30},\n",
       " {'id': 2,\n",
       "  'label': '2',\n",
       "  'layer': 1,\n",
       "  'x': 0.0,\n",
       "  'y': 301.6050087337753,\n",
       "  'color': {'background': 'green'},\n",
       "  'value': 30},\n",
       " {'id': 3,\n",
       "  'label': '3',\n",
       "  'layer': 1,\n",
       "  'x': 0.0,\n",
       "  'y': 400.80250436688766,\n",
       "  'color': {'background': 'green'},\n",
       "  'value': 30},\n",
       " {'id': 4,\n",
       "  'label': '4',\n",
       "  'layer': 1,\n",
       "  'x': 0.0,\n",
       "  'y': 500.0,\n",
       "  'color': {'background': 'green'},\n",
       "  'value': 30},\n",
       " {'id': 5,\n",
       "  'label': '5',\n",
       "  'layer': 1,\n",
       "  'x': 390.84129592358323,\n",
       "  'y': 69.23071741300278,\n",
       "  'color': {'background': 'blue'},\n",
       "  'value': 30},\n",
       " {'id': 6,\n",
       "  'label': '6',\n",
       "  'layer': 1,\n",
       "  'x': 371.1614827019418,\n",
       "  'y': 4.01252183443831,\n",
       "  'color': {'background': 'blue'},\n",
       "  'value': 30},\n",
       " {'id': 7,\n",
       "  'label': '7',\n",
       "  'layer': 1,\n",
       "  'x': 460.65370699565966,\n",
       "  'y': 35.31051887989062,\n",
       "  'color': {'background': 'blue'},\n",
       "  'value': 30},\n",
       " {'id': 8,\n",
       "  'label': '8',\n",
       "  'layer': 1,\n",
       "  'x': 277.34351437881537,\n",
       "  'y': 51.4963292104215,\n",
       "  'color': {'background': 'blue'},\n",
       "  'value': 30},\n",
       " {'id': 9,\n",
       "  'label': '9',\n",
       "  'layer': 1,\n",
       "  'x': 411.6106081017525,\n",
       "  'y': 292.0125218344383,\n",
       "  'color': {'background': 'blue'},\n",
       "  'value': 30},\n",
       " {'id': 10,\n",
       "  'label': '10',\n",
       "  'layer': 1,\n",
       "  'x': 414.228482258127,\n",
       "  'y': 220.65947124381327,\n",
       "  'color': {'background': 'blue'},\n",
       "  'value': 30},\n",
       " {'id': 11,\n",
       "  'label': '11',\n",
       "  'layer': 1,\n",
       "  'x': 299.16090964012045,\n",
       "  'y': 255.36557242506333,\n",
       "  'color': {'background': 'blue'},\n",
       "  'value': 30},\n",
       " {'id': 12,\n",
       "  'label': '12',\n",
       "  'layer': 1,\n",
       "  'x': 404.3806596979683,\n",
       "  'y': 500.0,\n",
       "  'color': {'background': 'blue'},\n",
       "  'value': 30},\n",
       " {'id': 13,\n",
       "  'label': '13',\n",
       "  'layer': 1,\n",
       "  'x': 275.0,\n",
       "  'y': 470.9261073819981,\n",
       "  'color': {'background': 'blue'},\n",
       "  'value': 30},\n",
       " {'id': 14,\n",
       "  'label': '14',\n",
       "  'layer': 1,\n",
       "  'x': 445.6193403020317,\n",
       "  'y': 445.1114581213167,\n",
       "  'color': {'background': 'blue'},\n",
       "  'value': 30},\n",
       " {'id': 15,\n",
       "  'label': '15',\n",
       "  'layer': 1,\n",
       "  'x': 650.0,\n",
       "  'y': 156.94828028723256,\n",
       "  'color': {'background': 'yellow'},\n",
       "  'value': 30},\n",
       " {'id': 16,\n",
       "  'label': '16',\n",
       "  'layer': 1,\n",
       "  'x': 837.5960659263942,\n",
       "  'y': 166.60438301635804,\n",
       "  'color': {'background': 'yellow'},\n",
       "  'value': 30},\n",
       " {'id': 17,\n",
       "  'label': '17',\n",
       "  'layer': 1,\n",
       "  'x': 731.4576875470099,\n",
       "  'y': 183.25566519435938,\n",
       "  'color': {'background': 'yellow'},\n",
       "  'value': 30},\n",
       " {'id': 18,\n",
       "  'label': '18',\n",
       "  'layer': 1,\n",
       "  'x': 833.2109227974737,\n",
       "  'y': 119.68877846687843,\n",
       "  'color': {'background': 'yellow'},\n",
       "  'value': 30},\n",
       " {'id': 19,\n",
       "  'label': '19',\n",
       "  'layer': 1,\n",
       "  'x': 697.7353237291223,\n",
       "  'y': 113.56550220736311,\n",
       "  'color': {'background': 'yellow'},\n",
       "  'value': 30},\n",
       " {'id': 20,\n",
       "  'label': '20',\n",
       "  'layer': 1,\n",
       "  'x': 850.0,\n",
       "  'y': 367.9185959091111,\n",
       "  'color': {'background': 'yellow'},\n",
       "  'value': 30},\n",
       " {'id': 21,\n",
       "  'label': '21',\n",
       "  'layer': 1,\n",
       "  'x': 770.5570917418736,\n",
       "  'y': 396.96489594721834,\n",
       "  'color': {'background': 'yellow'},\n",
       "  'value': 30},\n",
       " {'id': 22,\n",
       "  'label': '22',\n",
       "  'layer': 1,\n",
       "  'x': 657.1498871187652,\n",
       "  'y': 383.35169073098984,\n",
       "  'color': {'background': 'yellow'},\n",
       "  'value': 30},\n",
       " {'id': 23,\n",
       "  'label': '23',\n",
       "  'layer': 1,\n",
       "  'x': 783.8545100328425,\n",
       "  'y': 328.3994705936667,\n",
       "  'color': {'background': 'white'},\n",
       "  'value': 30},\n",
       " {'id': 24,\n",
       "  'label': '24',\n",
       "  'layer': 1,\n",
       "  'x': 688.4385111065187,\n",
       "  'y': 343.4279559912055,\n",
       "  'color': {'background': 'white'},\n",
       "  'value': 30},\n",
       " {'id': 25,\n",
       "  'label': '25',\n",
       "  'layer': 1,\n",
       "  'x': 1117.7285422007512,\n",
       "  'y': 112.0125218344383,\n",
       "  'color': {'background': 'purple'},\n",
       "  'value': 30},\n",
       " {'id': 26,\n",
       "  'label': '26',\n",
       "  'layer': 1,\n",
       "  'x': 1052.6801378308874,\n",
       "  'y': 163.89788586436646,\n",
       "  'color': {'background': 'purple'},\n",
       "  'value': 30},\n",
       " {'id': 27,\n",
       "  'label': '27',\n",
       "  'layer': 1,\n",
       "  'x': 1204.5913199683614,\n",
       "  'y': 168.12715780451015,\n",
       "  'color': {'background': 'white'},\n",
       "  'value': 30},\n",
       " {'id': 28,\n",
       "  'label': '28',\n",
       "  'layer': 1,\n",
       "  'x': 1178.8728183095473,\n",
       "  'y': 328.20429437823185,\n",
       "  'color': {'background': 'purple'},\n",
       "  'value': 30},\n",
       " {'id': 29,\n",
       "  'label': '29',\n",
       "  'layer': 1,\n",
       "  'x': 1074.4329774765351,\n",
       "  'y': 398.07204094058136,\n",
       "  'color': {'background': 'purple'},\n",
       "  'value': 30},\n",
       " {'id': 30,\n",
       "  'label': '30',\n",
       "  'layer': 1,\n",
       "  'x': 1221.6942042139176,\n",
       "  'y': 384.19771077679377,\n",
       "  'color': {'background': 'purple'},\n",
       "  'value': 30},\n",
       " {'id': 31,\n",
       "  'label': '31',\n",
       "  'layer': 1,\n",
       "  'x': 1025.0,\n",
       "  'y': 345.5760412421462,\n",
       "  'color': {'background': 'purple'},\n",
       "  'value': 30}]"
      ]
     },
     "execution_count": 11,
     "metadata": {},
     "output_type": "execute_result"
    }
   ],
   "source": [
    "nodes"
   ]
  },
  {
   "cell_type": "code",
   "execution_count": 12,
   "id": "553550b1",
   "metadata": {},
   "outputs": [
    {
     "data": {
      "text/plain": [
       "[{'id': 1, 'from': 0, 'to': 5},\n",
       " {'id': 2, 'from': 0, 'to': 14},\n",
       " {'id': 3, 'from': 1, 'to': 11},\n",
       " {'id': 4, 'from': 2, 'to': 11},\n",
       " {'id': 5, 'from': 3, 'to': 8},\n",
       " {'id': 6, 'from': 4, 'to': 5},\n",
       " {'id': 7, 'from': 5, 'to': 6},\n",
       " {'id': 8, 'from': 5, 'to': 7},\n",
       " {'id': 9, 'from': 5, 'to': 8},\n",
       " {'id': 10, 'from': 5, 'to': 20},\n",
       " {'id': 11, 'from': 5, 'to': 9},\n",
       " {'id': 12, 'from': 5, 'to': 16},\n",
       " {'id': 13, 'from': 9, 'to': 10},\n",
       " {'id': 14, 'from': 10, 'to': 11},\n",
       " {'id': 15, 'from': 10, 'to': 23},\n",
       " {'id': 16, 'from': 10, 'to': 13},\n",
       " {'id': 17, 'from': 12, 'to': 13},\n",
       " {'id': 18, 'from': 12, 'to': 14},\n",
       " {'id': 19, 'from': 15, 'to': 16},\n",
       " {'id': 20, 'from': 15, 'to': 17},\n",
       " {'id': 21, 'from': 16, 'to': 18},\n",
       " {'id': 22, 'from': 17, 'to': 21},\n",
       " {'id': 23, 'from': 18, 'to': 19},\n",
       " {'id': 24, 'from': 20, 'to': 21},\n",
       " {'id': 25, 'from': 20, 'to': 25},\n",
       " {'id': 26, 'from': 20, 'to': 23},\n",
       " {'id': 27, 'from': 21, 'to': 22},\n",
       " {'id': 28, 'from': 21, 'to': 23},\n",
       " {'id': 29, 'from': 21, 'to': 30},\n",
       " {'id': 30, 'from': 23, 'to': 24},\n",
       " {'id': 31, 'from': 23, 'to': 25},\n",
       " {'id': 32, 'from': 25, 'to': 26},\n",
       " {'id': 33, 'from': 26, 'to': 27},\n",
       " {'id': 34, 'from': 28, 'to': 29},\n",
       " {'id': 35, 'from': 28, 'to': 30},\n",
       " {'id': 36, 'from': 28, 'to': 31}]"
      ]
     },
     "execution_count": 12,
     "metadata": {},
     "output_type": "execute_result"
    }
   ],
   "source": [
    "edges"
   ]
  },
  {
   "cell_type": "code",
   "execution_count": 13,
   "id": "792f981a",
   "metadata": {},
   "outputs": [
    {
     "data": {
      "text/plain": [
       "[0, 1, 2, 3, 4]"
      ]
     },
     "execution_count": 13,
     "metadata": {},
     "output_type": "execute_result"
    }
   ],
   "source": [
    "visible_hosts"
   ]
  }
 ],
 "metadata": {
  "kernelspec": {
   "display_name": "Python 3 (ipykernel)",
   "language": "python",
   "name": "python3"
  },
  "language_info": {
   "codemirror_mode": {
    "name": "ipython",
    "version": 3
   },
   "file_extension": ".py",
   "mimetype": "text/x-python",
   "name": "python",
   "nbconvert_exporter": "python",
   "pygments_lexer": "ipython3",
   "version": "3.10.9"
  }
 },
 "nbformat": 4,
 "nbformat_minor": 5
}
