{
 "cells": [
  {
   "cell_type": "code",
   "execution_count": 1,
   "id": "511c4350",
   "metadata": {},
   "outputs": [
    {
     "name": "stderr",
     "output_type": "stream",
     "text": [
      "Note: NumExpr detected 12 cores but \"NUMEXPR_MAX_THREADS\" not set, so enforcing safe limit of 8.\n",
      "NumExpr defaulting to 8 threads.\n"
     ]
    }
   ],
   "source": [
    "from game import Game\n",
    "import threading\n",
    "import time\n",
    "import random"
   ]
  },
  {
   "cell_type": "code",
   "execution_count": 2,
   "id": "21f53bf1",
   "metadata": {},
   "outputs": [],
   "source": [
    "game_instance = Game()"
   ]
  },
  {
   "cell_type": "code",
   "execution_count": 3,
   "id": "7a52f34f",
   "metadata": {},
   "outputs": [],
   "source": [
    "def start_game():\n",
    "    # start the game\n",
    "    if not game_instance.get_isrunning():\n",
    "        game_instance.start()"
   ]
  },
  {
   "cell_type": "code",
   "execution_count": 4,
   "id": "b105ff4f",
   "metadata": {},
   "outputs": [],
   "source": [
    "def transform_nodes(old_nodes):\n",
    "    # print('-------------',type(old_nodes))\n",
    "    new_nodes = []\n",
    "    for node in old_nodes:\n",
    "        new_node = {\n",
    "            \"id\": node.id,\n",
    "            \"label\": str(node.id),\n",
    "            \"layer\": 1,\n",
    "            \"x\": node.x,\n",
    "            \"y\": node.y,\n",
    "            \"color\": {\"background\": str(node.color)},\n",
    "            \"value\": 30,\n",
    "        }\n",
    "        new_nodes.append(new_node)\n",
    "        # print(new_node)\n",
    "    return new_nodes\n",
    "\n",
    "def transform_edges(edges):\n",
    "    transformed_edges = []\n",
    "    for idx, edge in enumerate(edges, start=1):\n",
    "        transformed_edges.append({\n",
    "            \"id\": idx,\n",
    "            \"from\": edge[0],\n",
    "            \"to\": edge[1]\n",
    "        })\n",
    "    return transformed_edges"
   ]
  },
  {
   "cell_type": "code",
   "execution_count": 5,
   "id": "a66ccdc2",
   "metadata": {},
   "outputs": [
    {
     "name": "stderr",
     "output_type": "stream",
     "text": [
      "Period from 0.000 to 0.501\n",
      "Adversary: Start SCAN_HOST at 0.0s.\n",
      "Adversary: Processed SCAN_HOST at 5.0s.\n",
      "Adversary: Start ENUM_HOST at 5.0s.\n",
      "Adversary: Processed ENUM_HOST at 10.0s.\n",
      "Adversary: Start SCAN_PORT at 10.0s.\n",
      "Adversary: Processed SCAN_PORT at 35.0s.\n",
      "Adversary: Start SCAN_NEIGHBOR at 78.8s.\n",
      "Adversary: Processed SCAN_NEIGHBOR at 83.8s.\n",
      "Adversary: Start ENUM_HOST at 83.8s.\n",
      "Adversary: Processed ENUM_HOST at 88.8s.\n",
      "Adversary: Start SCAN_PORT at 88.8s.\n",
      "Adversary: Processed SCAN_PORT at 113.8s.\n",
      "Period from 0.501 to 1.018\n",
      "Adversary: Start SCAN_NEIGHBOR at 204.3s.\n",
      "Adversary: Processed SCAN_NEIGHBOR at 209.3s.\n",
      "Adversary: Start ENUM_HOST at 209.3s.\n",
      "Adversary: Processed ENUM_HOST at 214.3s.\n",
      "Adversary: Start SCAN_PORT at 214.3s.\n",
      "Adversary: Processed SCAN_PORT at 239.3s.\n",
      "Period from 1.018 to 1.525\n",
      "Adversary: Start SCAN_HOST at 331.0s.\n",
      "Adversary: Processed SCAN_HOST at 336.0s.\n",
      "Adversary: Start ENUM_HOST at 336.0s.\n",
      "Adversary: Processed ENUM_HOST at 341.0s.\n",
      "Adversary: Start SCAN_PORT at 341.0s.\n",
      "Adversary: Processed SCAN_PORT at 366.0s.\n",
      "Period from 1.525 to 2.039\n",
      "Adversary: Start BRUTE_FORCE at 465.7s.\n",
      "Adversary: Processed BRUTE_FORCE at 485.7s.\n",
      "Adversary: Start ENUM_HOST at 485.7s.\n",
      "Adversary: Processed ENUM_HOST at 490.7s.\n",
      "Adversary: Start SCAN_PORT at 490.7s.\n",
      "Adversary: Start SCAN_HOST at 532.6s.\n",
      "Adversary: Processed SCAN_HOST at 537.6s.\n",
      "Adversary: Start ENUM_HOST at 537.6s.\n",
      "Adversary: Processed ENUM_HOST at 542.6s.\n",
      "Adversary: Start SCAN_PORT at 542.6s.\n",
      "Adversary: Processed SCAN_PORT at 567.6s.\n",
      "Period from 2.039 to 2.553\n",
      "Adversary: Start SCAN_HOST at 732.2s.\n",
      "Adversary: Processed SCAN_HOST at 737.2s.\n",
      "Adversary: Start ENUM_HOST at 737.2s.\n",
      "Adversary: Processed ENUM_HOST at 742.2s.\n",
      "Adversary: Start SCAN_PORT at 742.2s.\n",
      "Period from 2.553 to 3.066\n",
      "Adversary: Processed SCAN_PORT at 767.2s.\n",
      "Adversary: Start SCAN_PORT at 891.9s.\n",
      "Adversary: Processed SCAN_PORT at 916.9s.\n"
     ]
    },
    {
     "name": "stdout",
     "output_type": "stream",
     "text": [
      "No host with ID <mtdnetwork.component.adversary.Adversary object at 0x7f7ada0b5fc0> found.\n"
     ]
    },
    {
     "name": "stderr",
     "output_type": "stream",
     "text": [
      "Period from 3.066 to 3.576\n",
      "Adversary: Start SCAN_NEIGHBOR at 1050.5s.\n",
      "Adversary: Processed SCAN_NEIGHBOR at 1055.5s.\n",
      "Adversary: Start ENUM_HOST at 1055.5s.\n",
      "Adversary: Processed ENUM_HOST at 1060.5s.\n",
      "Adversary: Start SCAN_PORT at 1060.5s.\n",
      "Period from 3.576 to 4.088\n",
      "Adversary: Processed SCAN_PORT at 1085.5s.\n",
      "Adversary: Start SCAN_NEIGHBOR at 1100.8s.\n",
      "Adversary: Processed SCAN_NEIGHBOR at 1105.8s.\n",
      "Adversary: Start ENUM_HOST at 1105.8s.\n",
      "Adversary: Processed ENUM_HOST at 1110.8s.\n",
      "Adversary: Start ENUM_HOST at 1110.8s.\n",
      "Adversary: Start SCAN_HOST at 1132.2s.\n",
      "Adversary: Processed SCAN_HOST at 1137.2s.\n",
      "Adversary: Start ENUM_HOST at 1137.2s.\n",
      "Adversary: Processed ENUM_HOST at 1142.2s.\n",
      "Adversary: Start SCAN_PORT at 1142.2s.\n",
      "Adversary: Processed SCAN_PORT at 1167.2s.\n",
      "Adversary: Start SCAN_NEIGHBOR at 1167.2s.\n",
      "Adversary: Processed SCAN_NEIGHBOR at 1172.2s.\n",
      "Adversary: Start ENUM_HOST at 1172.2s.\n",
      "Adversary: Processed ENUM_HOST at 1177.2s.\n",
      "Adversary: Start ENUM_HOST at 1177.2s.\n",
      "Adversary: Processed ENUM_HOST at 1182.2s.\n",
      "Adversary: Start SCAN_PORT at 1182.2s.\n",
      "Adversary: Processed SCAN_PORT at 1207.2s.\n",
      "Period from 4.088 to 4.604\n",
      "Adversary: Start SCAN_PORT at 1292.6s.\n",
      "Adversary: Processed SCAN_PORT at 1317.6s.\n"
     ]
    },
    {
     "name": "stdout",
     "output_type": "stream",
     "text": [
      "No host with ID <mtdnetwork.component.adversary.Adversary object at 0x7f7ada0b5fc0> found.\n"
     ]
    },
    {
     "name": "stderr",
     "output_type": "stream",
     "text": [
      "Period from 4.604 to 5.113\n",
      "Adversary: Start SCAN_NEIGHBOR at 1495.4s.\n",
      "Adversary: Processed SCAN_NEIGHBOR at 1500.4s.\n",
      "Adversary: Start ENUM_HOST at 1500.4s.\n",
      "Adversary: Processed ENUM_HOST at 1505.4s.\n",
      "Adversary: Start ENUM_HOST at 1505.4s.\n",
      "Adversary: Processed ENUM_HOST at 1510.4s.\n",
      "Adversary: Start SCAN_PORT at 1510.4s.\n",
      "Period from 5.113 to 5.628\n",
      "Adversary: Start SCAN_HOST at 1534.4s.\n",
      "Adversary: Processed SCAN_HOST at 1539.4s.\n",
      "Adversary: Start ENUM_HOST at 1539.4s.\n",
      "Adversary: Processed ENUM_HOST at 1544.4s.\n",
      "Adversary: Start SCAN_PORT at 1544.4s.\n",
      "Adversary: Processed SCAN_PORT at 1569.4s.\n",
      "Period from 5.628 to 6.138\n",
      "Adversary: Start SCAN_HOST at 1733.3s.\n",
      "Adversary: Processed SCAN_HOST at 1738.3s.\n",
      "Adversary: Start ENUM_HOST at 1738.3s.\n",
      "Adversary: Processed ENUM_HOST at 1743.3s.\n",
      "Adversary: Start SCAN_PORT at 1743.3s.\n",
      "Adversary: Processed SCAN_PORT at 1768.3s.\n",
      "Period from 6.138 to 6.653\n",
      "Adversary: Start SCAN_PORT at 1905.6s.\n",
      "Adversary: Processed SCAN_PORT at 1930.6s.\n",
      "Period from 6.653 to 7.166\n",
      "Adversary: Start SCAN_HOST at 2144.8s.\n",
      "Period from 7.166 to 7.690\n",
      "Adversary: Processed SCAN_HOST at 2149.8s.\n",
      "Adversary: Start ENUM_HOST at 2149.8s.\n",
      "Adversary: Processed ENUM_HOST at 2154.8s.\n",
      "Adversary: Start SCAN_PORT at 2154.8s.\n",
      "Adversary: Processed SCAN_PORT at 2179.8s.\n",
      "Adversary: Start BRUTE_FORCE at 2187.4s.\n",
      "Adversary: Processed BRUTE_FORCE at 2207.4s.\n",
      "Adversary: Start ENUM_HOST at 2207.4s.\n",
      "Adversary: Processed ENUM_HOST at 2212.4s.\n",
      "Adversary: Start SCAN_PORT at 2212.4s.\n",
      "Adversary: Processed SCAN_PORT at 2237.4s.\n",
      "Period from 7.690 to 8.200\n",
      "Adversary: Start SCAN_HOST at 2336.0s.\n",
      "Adversary: Processed SCAN_HOST at 2341.0s.\n",
      "Adversary: Start ENUM_HOST at 2341.0s.\n",
      "Adversary: Processed ENUM_HOST at 2346.0s.\n",
      "Adversary: Start SCAN_PORT at 2346.0s.\n",
      "Adversary: Processed SCAN_PORT at 2371.0s.\n",
      "Adversary: Start BRUTE_FORCE at 2378.7s.\n",
      "Adversary: Processed BRUTE_FORCE at 2398.7s.\n",
      "Adversary: Start ENUM_HOST at 2398.7s.\n",
      "Adversary: Processed ENUM_HOST at 2403.7s.\n",
      "Adversary: Start SCAN_PORT at 2403.7s.\n",
      "Adversary: Processed SCAN_PORT at 2428.7s.\n",
      "Period from 8.200 to 8.717\n",
      "Adversary: Start SCAN_HOST at 2537.3s.\n",
      "Adversary: Processed SCAN_HOST at 2542.3s.\n",
      "Adversary: Start ENUM_HOST at 2542.3s.\n",
      "Adversary: Processed ENUM_HOST at 2547.3s.\n",
      "Adversary: Start SCAN_PORT at 2547.3s.\n",
      "Adversary: Processed SCAN_PORT at 2572.3s.\n",
      "Period from 8.717 to 9.233\n",
      "Adversary: Start SCAN_NEIGHBOR at 2621.9s.\n",
      "Adversary: Processed SCAN_NEIGHBOR at 2626.9s.\n",
      "Adversary: Start ENUM_HOST at 2626.9s.\n",
      "Adversary: Processed ENUM_HOST at 2631.9s.\n",
      "Adversary: Start SCAN_PORT at 2631.9s.\n",
      "Adversary: Processed SCAN_PORT at 2656.9s.\n",
      "Adversary: Start SCAN_NEIGHBOR at 2656.9s.\n",
      "Adversary: Processed SCAN_NEIGHBOR at 2661.9s.\n",
      "Adversary: Start ENUM_HOST at 2661.9s.\n",
      "Adversary: Processed ENUM_HOST at 2666.9s.\n",
      "Adversary: Start SCAN_PORT at 2666.9s.\n",
      "Adversary: Start SCAN_PORT at 2696.1s.\n",
      "Adversary: Processed SCAN_PORT at 2721.1s.\n",
      "Adversary: Start SCAN_NEIGHBOR at 2768.6s.\n"
     ]
    },
    {
     "name": "stdout",
     "output_type": "stream",
     "text": [
      "No host with ID <mtdnetwork.component.adversary.Adversary object at 0x7f7ada0b5fc0> found.\n"
     ]
    },
    {
     "name": "stderr",
     "output_type": "stream",
     "text": [
      "Period from 9.233 to 9.750\n",
      "Adversary: Processed SCAN_NEIGHBOR at 2773.6s.\n",
      "Adversary: Start ENUM_HOST at 2773.6s.\n",
      "Adversary: Processed ENUM_HOST at 2778.6s.\n",
      "Adversary: Start ENUM_HOST at 2778.6s.\n",
      "Adversary: Processed ENUM_HOST at 2783.6s.\n",
      "Adversary: Start SCAN_PORT at 2783.6s.\n",
      "Adversary: Processed SCAN_PORT at 2808.6s.\n",
      "Adversary: Start BRUTE_FORCE at 2808.6s.\n",
      "Adversary: Processed BRUTE_FORCE at 2828.6s.\n",
      "Adversary: Start ENUM_HOST at 2828.6s.\n",
      "Adversary: Processed ENUM_HOST at 2833.6s.\n",
      "Adversary: Start ENUM_HOST at 2833.6s.\n",
      "Adversary: Processed ENUM_HOST at 2838.6s.\n",
      "Adversary: Start SCAN_PORT at 2838.6s.\n",
      "Adversary: Processed SCAN_PORT at 2863.6s.\n",
      "Adversary: Start SCAN_NEIGHBOR at 2919.3s.\n",
      "Adversary: Processed SCAN_NEIGHBOR at 2924.3s.\n",
      "Adversary: Start ENUM_HOST at 2924.3s.\n",
      "Period from 9.750 to 10.272\n"
     ]
    }
   ],
   "source": [
    "game_thread = threading.Thread(target=start_game)\n",
    "game_thread.start()\n",
    "time.sleep(12)"
   ]
  },
  {
   "cell_type": "code",
   "execution_count": 6,
   "id": "d862f35a",
   "metadata": {},
   "outputs": [
    {
     "data": {
      "text/plain": [
       "[0, 8, 6, 5, 7, 9, 16, 18, 17, 10]"
      ]
     },
     "execution_count": 6,
     "metadata": {},
     "output_type": "execute_result"
    }
   ],
   "source": [
    "compromised_hosts = game_instance.get_current_compromised_hosts()\n",
    "compromised_hosts"
   ]
  },
  {
   "cell_type": "code",
   "execution_count": 7,
   "id": "7bd2afb6",
   "metadata": {},
   "outputs": [
    {
     "data": {
      "text/plain": [
       "[15, 23, 25, 21, 11, 12, 20, 1, 2, 3, 4]"
      ]
     },
     "execution_count": 7,
     "metadata": {},
     "output_type": "execute_result"
    }
   ],
   "source": [
    "uncompromised_hosts = game_instance.get_current_uncompromised_hosts()\n",
    "uncompromised_hosts"
   ]
  },
  {
   "cell_type": "code",
   "execution_count": 8,
   "id": "b14fa17d",
   "metadata": {},
   "outputs": [
    {
     "data": {
      "text/plain": [
       "[15, 23, 25, 21, 11, 12, 20, 1, 2, 3, 4]"
      ]
     },
     "execution_count": 8,
     "metadata": {},
     "output_type": "execute_result"
    }
   ],
   "source": [
    "discovered_hosts = game_instance.get_current_discovered_hosts()\n",
    "discovered_hosts"
   ]
  },
  {
   "cell_type": "code",
   "execution_count": 9,
   "id": "4cc3a703",
   "metadata": {},
   "outputs": [
    {
     "data": {
      "text/plain": [
       "[0, 8, 6, 5, 7, 9, 16, 18, 17, 10, 15, 23, 25, 21, 11, 12, 20, 1, 2, 3, 4]"
      ]
     },
     "execution_count": 9,
     "metadata": {},
     "output_type": "execute_result"
    }
   ],
   "source": [
    "visible_hosts = game_instance.get_visible_hosts()\n",
    "visible_hosts"
   ]
  },
  {
   "cell_type": "code",
   "execution_count": 10,
   "id": "9baa1481",
   "metadata": {},
   "outputs": [
    {
     "data": {
      "text/plain": [
       "[10, 11, 20, 5, 9, 12, 21, 25, 23, 1, 2, 3, 4]"
      ]
     },
     "execution_count": 10,
     "metadata": {},
     "output_type": "execute_result"
    }
   ],
   "source": [
    "host_stack = game_instance.enum_host()\n",
    "host_stack"
   ]
  },
  {
   "cell_type": "code",
   "execution_count": 11,
   "id": "732069bf",
   "metadata": {},
   "outputs": [
    {
     "name": "stdout",
     "output_type": "stream",
     "text": [
      "You can keep on attacking node 0 by exploiting vulnerabilities according to the port list: 41253, 8990, 54793\n",
      "You can keep on attacking node 1 by exploiting vulnerabilities according to the port list: 23184, 41434, 768, 5688, 56661, 46368, 14212, 57889\n",
      "You can keep on attacking node 2 by exploiting vulnerabilities according to the port list: 64953, 33239, 27579, 57760, 17020\n",
      "You can keep on attacking node 3 by exploiting vulnerabilities according to the port list: 17287, 48044, 26809, 53797, 15860, 52316, 56413, 52745, 9936\n",
      "You can keep on attacking node 4 by exploiting vulnerabilities according to the port list: 17722, 18309, 17852, 60290\n",
      "You can keep on attacking node 5 by exploiting vulnerabilities according to the port list: 9148, 2374, 45289\n",
      "You can keep on attacking node 6 by exploiting vulnerabilities according to the port list: 54003, 26359, 11837, 39579, 7622, 41416\n",
      "The node 7 has been automatically compromised because of the same user password.\n",
      "The node 8 has been automatically compromised because of the same user password.\n",
      "You can keep on attacking node 9 by exploiting vulnerabilities according to the port list: 27688, 42938, 6220, 19969, 57199\n",
      "You can keep on attacking node 10 by exploiting vulnerabilities according to the port list: 18484, 64322, 59991, 56802, 14570, 49413, 21246\n",
      "The node 11 has been automatically compromised because of the same user password.\n",
      "You can keep on attacking node 12 by exploiting vulnerabilities according to the port list: 357, 56191, 50709, 56707, 43961\n",
      "The node 13 is illegal to scan the port because it is unvisble to the attacker.\n",
      "The node 14 is illegal to scan the port because it is unvisble to the attacker.\n",
      "You can keep on attacking node 15 by exploiting vulnerabilities according to the port list: 5374, 20948, 30709, 34271\n",
      "You can keep on attacking node 16 by exploiting vulnerabilities according to the port list: 5150, 1558, 14990, 64334, 24804\n",
      "You can keep on attacking node 17 by exploiting vulnerabilities according to the port list: 14853, 27795, 48611, 32801, 41670, 49035, 38711, 41082\n",
      "The node 18 has been automatically compromised because of the same user password.\n",
      "The node 19 is illegal to scan the port because it is unvisble to the attacker.\n",
      "You can keep on attacking node 20 by exploiting vulnerabilities according to the port list: 54909, 50957, 38637, 17621, 187, 56849, 22316, 46603\n",
      "You can keep on attacking node 21 by exploiting vulnerabilities according to the port list: 59877, 37998, 6864, 27373, 60911, 5649, 64759, 2458\n",
      "The node 22 is illegal to scan the port because it is unvisble to the attacker.\n",
      "You can keep on attacking node 23 by exploiting vulnerabilities according to the port list: 36540, 34727, 59906, 40145, 58227, 59949, 50341, 11787, 45251, 26397\n",
      "The node 24 is illegal to scan the port because it is unvisble to the attacker.\n",
      "You can keep on attacking node 25 by exploiting vulnerabilities according to the port list: 8038, 19447, 524, 29007, 51812, 50947, 64608, 27675\n",
      "The node 26 is illegal to scan the port because it is unvisble to the attacker.\n",
      "The node 27 is illegal to scan the port because it is unvisble to the attacker.\n",
      "The node 28 is illegal to scan the port because it is unvisble to the attacker.\n",
      "The node 29 is illegal to scan the port because it is unvisble to the attacker.\n",
      "The node 30 is illegal to scan the port because it is unvisble to the attacker.\n",
      "The node 31 is illegal to scan the port because it is unvisble to the attacker.\n"
     ]
    }
   ],
   "source": [
    "hosts = game_instance.time_network.get_hosts()\n",
    "for host_id in hosts:\n",
    "    scan_port_result = game_instance.scan_port(host_id)\n",
    "    print(scan_port_result['message'])"
   ]
  },
  {
   "cell_type": "code",
   "execution_count": null,
   "id": "ef143099",
   "metadata": {},
   "outputs": [],
   "source": []
  },
  {
   "cell_type": "code",
   "execution_count": 12,
   "id": "9be0a84f",
   "metadata": {},
   "outputs": [],
   "source": [
    "# adversary.get_curr_host().can_auto_compromise_with_users(adversary.get_compromised_users())"
   ]
  },
  {
   "cell_type": "code",
   "execution_count": 13,
   "id": "f133cc9b",
   "metadata": {},
   "outputs": [],
   "source": [
    "# adversary.set_curr_vulns(adversary.get_curr_host().get_vulns(adversary.get_curr_ports()))\n",
    "# adversary.get_curr_vulns()"
   ]
  },
  {
   "cell_type": "code",
   "execution_count": null,
   "id": "dab0e5bc",
   "metadata": {},
   "outputs": [],
   "source": []
  }
 ],
 "metadata": {
  "kernelspec": {
   "display_name": "Python 3 (ipykernel)",
   "language": "python",
   "name": "python3"
  },
  "language_info": {
   "codemirror_mode": {
    "name": "ipython",
    "version": 3
   },
   "file_extension": ".py",
   "mimetype": "text/x-python",
   "name": "python",
   "nbconvert_exporter": "python",
   "pygments_lexer": "ipython3",
   "version": "3.10.9"
  }
 },
 "nbformat": 4,
 "nbformat_minor": 5
}
