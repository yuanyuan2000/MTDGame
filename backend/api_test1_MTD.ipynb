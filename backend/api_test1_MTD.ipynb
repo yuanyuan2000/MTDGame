{
 "cells": [
  {
   "cell_type": "code",
   "execution_count": 1,
   "id": "ab8eeae9",
   "metadata": {},
   "outputs": [
    {
     "name": "stderr",
     "output_type": "stream",
     "text": [
      "Note: NumExpr detected 12 cores but \"NUMEXPR_MAX_THREADS\" not set, so enforcing safe limit of 8.\n",
      "NumExpr defaulting to 8 threads.\n"
     ]
    }
   ],
   "source": [
    "from game import Game\n",
    "import threading\n",
    "import time"
   ]
  },
  {
   "cell_type": "code",
   "execution_count": 2,
   "id": "894f28b3",
   "metadata": {},
   "outputs": [],
   "source": [
    "game_instance = Game()"
   ]
  },
  {
   "cell_type": "code",
   "execution_count": 3,
   "id": "73562d60",
   "metadata": {},
   "outputs": [],
   "source": [
    "def start_game():\n",
    "    # start the game\n",
    "    if not game_instance.get_isrunning():\n",
    "        game_instance.start()"
   ]
  },
  {
   "cell_type": "code",
   "execution_count": 4,
   "id": "b66a6e0f",
   "metadata": {},
   "outputs": [],
   "source": [
    "def transform_nodes(old_nodes):\n",
    "    # print('-------------',type(old_nodes))\n",
    "    new_nodes = []\n",
    "    for node in old_nodes:\n",
    "        new_node = {\n",
    "            \"id\": node.id,\n",
    "            \"label\": str(node.id),\n",
    "            \"layer\": 1,\n",
    "            \"x\": node.x,\n",
    "            \"y\": node.y,\n",
    "            \"color\": {\"background\": str(node.color)},\n",
    "            \"value\": 30,\n",
    "        }\n",
    "        new_nodes.append(new_node)\n",
    "        # print(new_node)\n",
    "    return new_nodes\n",
    "\n",
    "def transform_edges(edges):\n",
    "    transformed_edges = []\n",
    "    for idx, edge in enumerate(edges, start=1):\n",
    "        transformed_edges.append({\n",
    "            \"id\": idx,\n",
    "            \"from\": edge[0],\n",
    "            \"to\": edge[1]\n",
    "        })\n",
    "    return transformed_edges"
   ]
  },
  {
   "cell_type": "code",
   "execution_count": 5,
   "id": "b929b1e4",
   "metadata": {},
   "outputs": [],
   "source": [
    "game_thread = threading.Thread(target=start_game)"
   ]
  },
  {
   "cell_type": "code",
   "execution_count": 6,
   "id": "ebf47608",
   "metadata": {},
   "outputs": [],
   "source": [
    "game_thread.start()"
   ]
  },
  {
   "cell_type": "code",
   "execution_count": 7,
   "id": "d0dd347f",
   "metadata": {},
   "outputs": [
    {
     "name": "stdout",
     "output_type": "stream",
     "text": [
      "No host with ID <mtdnetwork.component.adversary.Adversary object at 0x7fa9b72d5450> found.\n",
      "No host with ID <mtdnetwork.component.adversary.Adversary object at 0x7fa9b72d5450> found.\n",
      "No host with ID <mtdnetwork.component.adversary.Adversary object at 0x7fa9b72d5450> found.\n"
     ]
    }
   ],
   "source": [
    "time.sleep(1)"
   ]
  },
  {
   "cell_type": "code",
   "execution_count": 8,
   "id": "2e345f1e",
   "metadata": {},
   "outputs": [
    {
     "data": {
      "text/plain": [
       "{'host_id': 1, 'os_type': 'centos', 'os_version': '6', 'ip': '101.56.33.152'}"
      ]
     },
     "execution_count": 8,
     "metadata": {},
     "output_type": "execute_result"
    }
   ],
   "source": [
    "game_instance.get_host_info(1)"
   ]
  },
  {
   "cell_type": "code",
   "execution_count": 9,
   "id": "d4447e55",
   "metadata": {},
   "outputs": [
    {
     "name": "stdout",
     "output_type": "stream",
     "text": [
      "IP address of host 1 has been changed to 44.127.188.244\n"
     ]
    },
    {
     "data": {
      "text/plain": [
       "True"
      ]
     },
     "execution_count": 9,
     "metadata": {},
     "output_type": "execute_result"
    }
   ],
   "source": [
    "game_instance.ip_shuffling(1)"
   ]
  },
  {
   "cell_type": "code",
   "execution_count": 10,
   "id": "d7cc52c4",
   "metadata": {},
   "outputs": [
    {
     "data": {
      "text/plain": [
       "{'host_id': 1, 'os_type': 'centos', 'os_version': '6', 'ip': '44.127.188.244'}"
      ]
     },
     "execution_count": 10,
     "metadata": {},
     "output_type": "execute_result"
    }
   ],
   "source": [
    "game_instance.get_host_info(1)"
   ]
  },
  {
   "cell_type": "code",
   "execution_count": 11,
   "id": "30fbb088",
   "metadata": {},
   "outputs": [
    {
     "name": "stdout",
     "output_type": "stream",
     "text": [
      "{'id': 0, 'label': '0', 'layer': 1, 'x': 0.0, 'y': 101.6855862137739, 'color': {'background': 'green'}, 'value': 30}\n",
      "{'id': 1, 'label': '1', 'layer': 1, 'x': 0.0, 'y': 201.26418966033043, 'color': {'background': 'green'}, 'value': 30}\n",
      "{'id': 2, 'label': '2', 'layer': 1, 'x': 0.0, 'y': 300.8427931068869, 'color': {'background': 'green'}, 'value': 30}\n",
      "{'id': 1, 'from': 0, 'to': 11}\n",
      "{'id': 2, 'from': 0, 'to': 13}\n"
     ]
    }
   ],
   "source": [
    "nodes = transform_nodes(game_instance.get_nodes())\n",
    "edges = transform_edges(game_instance.get_edges())\n",
    "print(nodes[0])\n",
    "print(nodes[1])\n",
    "print(nodes[2])\n",
    "print(edges[0])\n",
    "print(edges[1])"
   ]
  },
  {
   "cell_type": "code",
   "execution_count": 12,
   "id": "68c157e1",
   "metadata": {},
   "outputs": [],
   "source": [
    "game_instance.topology_shuffle()"
   ]
  },
  {
   "cell_type": "code",
   "execution_count": 13,
   "id": "066df28d",
   "metadata": {},
   "outputs": [
    {
     "name": "stdout",
     "output_type": "stream",
     "text": [
      "{'id': 0, 'label': '0', 'layer': 1, 'x': 0.0, 'y': 110.67882419402287, 'color': {'background': 'green'}, 'value': 30}\n",
      "{'id': 1, 'label': '1', 'layer': 1, 'x': 0.0, 'y': 208.00911814551716, 'color': {'background': 'green'}, 'value': 30}\n",
      "{'id': 2, 'label': '2', 'layer': 1, 'x': 0.0, 'y': 305.3394120970114, 'color': {'background': 'green'}, 'value': 30}\n",
      "{'id': 1, 'from': 0, 'to': 10}\n",
      "{'id': 2, 'from': 1, 'to': 12}\n"
     ]
    }
   ],
   "source": [
    "nodes = transform_nodes(game_instance.get_nodes())\n",
    "edges = transform_edges(game_instance.get_edges())\n",
    "print(nodes[0])\n",
    "print(nodes[1])\n",
    "print(nodes[2])\n",
    "print(edges[0])\n",
    "print(edges[1])"
   ]
  },
  {
   "cell_type": "code",
   "execution_count": 14,
   "id": "9ac09119",
   "metadata": {},
   "outputs": [
    {
     "name": "stdout",
     "output_type": "stream",
     "text": [
      "{'host_id': 1, 'os_type': 'centos', 'os_version': '6', 'ip': '44.127.188.244'}\n",
      "{'host_id': 10, 'os_type': 'ubuntu', 'os_version': '14.04', 'ip': '112.253.47.230'}\n",
      "{'host_id': 20, 'os_type': 'windows', 'os_version': '10', 'ip': '144.9.6.22'}\n",
      "{'host_id': 30, 'os_type': 'ubuntu', 'os_version': '10.04', 'ip': '165.153.200.19'}\n"
     ]
    }
   ],
   "source": [
    "print(game_instance.get_host_info(1))\n",
    "print(game_instance.get_host_info(10))\n",
    "print(game_instance.get_host_info(20))\n",
    "print(game_instance.get_host_info(30))"
   ]
  },
  {
   "cell_type": "code",
   "execution_count": 15,
   "id": "8e40f4f4",
   "metadata": {},
   "outputs": [],
   "source": [
    "game_instance.os_diversity()"
   ]
  },
  {
   "cell_type": "code",
   "execution_count": 16,
   "id": "75480c4b",
   "metadata": {},
   "outputs": [
    {
     "name": "stdout",
     "output_type": "stream",
     "text": [
      "{'host_id': 1, 'os_type': 'centos', 'os_version': '6', 'ip': '44.127.188.244'}\n",
      "{'host_id': 10, 'os_type': 'freebsd', 'os_version': '10', 'ip': '112.253.47.230'}\n",
      "{'host_id': 20, 'os_type': 'ubuntu', 'os_version': '20.04', 'ip': '144.9.6.22'}\n",
      "{'host_id': 30, 'os_type': 'freebsd', 'os_version': '8', 'ip': '165.153.200.19'}\n"
     ]
    }
   ],
   "source": [
    "print(game_instance.get_host_info(1))\n",
    "print(game_instance.get_host_info(10))\n",
    "print(game_instance.get_host_info(20))\n",
    "print(game_instance.get_host_info(30))"
   ]
  },
  {
   "cell_type": "code",
   "execution_count": 17,
   "id": "c62b6dae",
   "metadata": {},
   "outputs": [
    {
     "data": {
      "text/plain": [
       "{'route': {'vulnerabilities': [{'Vulnerability ID': '1a608f06-5aa8-4efc-9f0d-deb480b67fbb',\n",
       "    'Complexity': 0.9398081528232458,\n",
       "    'Impact': 5.144828290337266,\n",
       "    'CVSS': 3.0423182215802558,\n",
       "    'Exploitability': 0.5531487675600465},\n",
       "   {'Vulnerability ID': 'ced1ae63-5251-4733-892d-d9bfe3c641dd',\n",
       "    'Complexity': 0.9443259988132793,\n",
       "    'Impact': 4.020556680263638,\n",
       "    'CVSS': 2.482441339538459,\n",
       "    'Exploitability': 0.45135297082517434},\n",
       "   {'Vulnerability ID': '1eb60c81-c845-420c-973e-349a6649b70c',\n",
       "    'Complexity': 0.8352318019786928,\n",
       "    'Impact': 5.642463238455565,\n",
       "    'CVSS': 3.2388475202171287,\n",
       "    'Exploitability': 0.5888813673122052},\n",
       "   {'Vulnerability ID': '666c3ac1-6c19-4b06-a465-1f17f411a8f9',\n",
       "    'Complexity': 0.7003293898943784,\n",
       "    'Impact': 8.876028474065727,\n",
       "    'CVSS': 4.7881789319800525,\n",
       "    'Exploitability': 0.8705779876327369},\n",
       "   {'Vulnerability ID': '67d77082-6312-4263-bc5a-e3c1bbdac0a5',\n",
       "    'Complexity': 0.5710111212445967,\n",
       "    'Impact': 6.299269087628565,\n",
       "    'CVSS': 3.435140104436581,\n",
       "    'Exploitability': 0.6245709280793783},\n",
       "   {'Vulnerability ID': '96d10d6e-3dda-428a-b71b-3fe571924ab1',\n",
       "    'Complexity': 0.5455947642866392,\n",
       "    'Impact': 6.333275323585623,\n",
       "    'CVSS': 3.4394350439361308,\n",
       "    'Exploitability': 0.6253518261702056},\n",
       "   {'Vulnerability ID': 'b4dc5467-c2c3-4b83-a99a-9aff45866664',\n",
       "    'Complexity': 0.4957612569101433,\n",
       "    'Impact': 7.197058385881827,\n",
       "    'CVSS': 3.8464098213959854,\n",
       "    'Exploitability': 0.6993472402538156},\n",
       "   {'Vulnerability ID': '5213e88b-3f74-442b-92be-f8a194b98c32',\n",
       "    'Complexity': 0.7812672763108555,\n",
       "    'Impact': 0.39239177569217243,\n",
       "    'CVSS': 0.586829526001514,\n",
       "    'Exploitability': 0.10669627745482071},\n",
       "   {'Vulnerability ID': 'c3cced0b-ae11-4daf-92a7-cd1c06708793',\n",
       "    'Complexity': 0.551319338930581,\n",
       "    'Impact': 0.25537794170826356,\n",
       "    'CVSS': 0.4033486403194223,\n",
       "    'Exploitability': 0.07333611642171314}],\n",
       "  'port': None,\n",
       "  'service_id': 'a3be8186-4a25-4a50-80e9-db66b908e933'},\n",
       " 'violation': {'vulnerabilities': [{'Vulnerability ID': '594698aa-d805-4ad0-8414-6a5a14b2d300',\n",
       "    'Complexity': 0.931669621397276,\n",
       "    'Impact': 4.078960867531856,\n",
       "    'CVSS': 2.505315244464566,\n",
       "    'Exploitability': 0.45551186262992105},\n",
       "   {'Vulnerability ID': 'd4f5b0a9-fcf5-4c4f-807a-426547d27e16',\n",
       "    'Complexity': 0.9664327975399587,\n",
       "    'Impact': 1.3071384054883772,\n",
       "    'CVSS': 1.136785601514168,\n",
       "    'Exploitability': 0.20668829118439416},\n",
       "   {'Vulnerability ID': 'f81eae97-7656-4ede-baba-454c06ef036c',\n",
       "    'Complexity': 0.7881595102525005,\n",
       "    'Impact': 8.647216952226414,\n",
       "    'CVSS': 4.717688231239457,\n",
       "    'Exploitability': 0.8577614965889921},\n",
       "   {'Vulnerability ID': 'f7424a8c-6921-407f-b684-3a078241bf43',\n",
       "    'Complexity': 0.809298608364875,\n",
       "    'Impact': 4.222783571471719,\n",
       "    'CVSS': 2.516041089918297,\n",
       "    'Exploitability': 0.45746201634878125},\n",
       "   {'Vulnerability ID': '234f87ae-45d6-4c78-8854-8406dbafd8be',\n",
       "    'Complexity': 0.4984810535376264,\n",
       "    'Impact': 7.739569975336096,\n",
       "    'CVSS': 4.119025514436861,\n",
       "    'Exploitability': 0.7489137298976111},\n",
       "   {'Vulnerability ID': '626ca6b9-a86c-44d2-925f-7a0af129f3e3',\n",
       "    'Complexity': 0.4940768440614203,\n",
       "    'Impact': 7.827625600920108,\n",
       "    'CVSS': 4.160851222490764,\n",
       "    'Exploitability': 0.7565184040892298},\n",
       "   {'Vulnerability ID': '982bc58f-ab1f-4933-9263-66bef0606515',\n",
       "    'Complexity': 0.851821306851331,\n",
       "    'Impact': 1.2145214755939082,\n",
       "    'CVSS': 1.0331713912226195,\n",
       "    'Exploitability': 0.1878493438586581},\n",
       "   {'Vulnerability ID': 'a743ba4f-55f6-4565-a3af-ddf26e3883ca',\n",
       "    'Complexity': 0.7997294246511597,\n",
       "    'Impact': 1.572923685029205,\n",
       "    'CVSS': 1.1863265548401825,\n",
       "    'Exploitability': 0.21569573724366953},\n",
       "   {'Vulnerability ID': '0f2fca77-e202-4045-a3c2-a042c6ee7cd9',\n",
       "    'Complexity': 0.7002211385451054,\n",
       "    'Impact': 1.6127573601936307,\n",
       "    'CVSS': 1.156489249369368,\n",
       "    'Exploitability': 0.21027077261261234},\n",
       "   {'Vulnerability ID': '5eacb867-5d29-43a7-b5e1-1632c6054322',\n",
       "    'Complexity': 0.4237337823700442,\n",
       "    'Impact': 2.896468486916164,\n",
       "    'CVSS': 1.660101134643104,\n",
       "    'Exploitability': 0.3018365699351098}],\n",
       "  'port': None,\n",
       "  'service_id': '89ae699c-d3b8-41ce-b2f2-93ed7c960b5a'},\n",
       " 'manufacturer': {'vulnerabilities': [{'Vulnerability ID': '918a81b1-b6ae-4deb-8ee5-b187e89d5a46',\n",
       "    'Complexity': 0.8004499376638428,\n",
       "    'Impact': 5.335826707091784,\n",
       "    'CVSS': 3.0681383223778136,\n",
       "    'Exploitability': 0.5578433313414206},\n",
       "   {'Vulnerability ID': '1ad6a11d-b21f-4f9e-949b-25b70279fec8',\n",
       "    'Complexity': 0.7212182735320285,\n",
       "    'Impact': 3.3977386811136356,\n",
       "    'CVSS': 2.0594784773228323,\n",
       "    'Exploitability': 0.37445063224051495},\n",
       "   {'Vulnerability ID': 'e51fad90-0032-4470-beba-dc92ab443627',\n",
       "    'Complexity': 0.5646359149956728,\n",
       "    'Impact': 9.191153715689444,\n",
       "    'CVSS': 4.877894815342558,\n",
       "    'Exploitability': 0.8868899664259197},\n",
       "   {'Vulnerability ID': '7274f1f5-4394-41bb-9611-23582507d4bf',\n",
       "    'Complexity': 0.6279742595828958,\n",
       "    'Impact': 6.713842116923942,\n",
       "    'CVSS': 3.670908188253419,\n",
       "    'Exploitability': 0.6674378524097125},\n",
       "   {'Vulnerability ID': 'e78300d6-5423-4eef-b2de-68e945c96cdf',\n",
       "    'Complexity': 0.6082078249559171,\n",
       "    'Impact': 6.252682910045375,\n",
       "    'CVSS': 3.430445367500646,\n",
       "    'Exploitability': 0.6237173395455721},\n",
       "   {'Vulnerability ID': 'c2649ca9-f4e5-4949-844b-2b880180b55a',\n",
       "    'Complexity': 0.7419249054528441,\n",
       "    'Impact': 2.692076712494944,\n",
       "    'CVSS': 1.7170008089738942,\n",
       "    'Exploitability': 0.31218196526798075},\n",
       "   {'Vulnerability ID': 'dc10d2f2-a318-4365-ac9c-fbd14b4d50bd',\n",
       "    'Complexity': 0.8007848367525805,\n",
       "    'Impact': 1.7982305749182037,\n",
       "    'CVSS': 1.299507705835392,\n",
       "    'Exploitability': 0.23627412833370764},\n",
       "   {'Vulnerability ID': 'b535f4eb-9871-4898-b9c7-95f65ef27889',\n",
       "    'Complexity': 0.5876398826006568,\n",
       "    'Impact': 4.284365893859463,\n",
       "    'CVSS': 2.43600288823006,\n",
       "    'Exploitability': 0.4429096160418291},\n",
       "   {'Vulnerability ID': '1e4a4686-ccb4-44ca-ab32-280a133d2e31',\n",
       "    'Complexity': 0.49435943217968054,\n",
       "    'Impact': 6.031524061411067,\n",
       "    'CVSS': 3.2629417467953736,\n",
       "    'Exploitability': 0.593262135780977},\n",
       "   {'Vulnerability ID': 'd2fbf1ea-4458-454c-a33e-d46689aadc31',\n",
       "    'Complexity': 0.78914134653187,\n",
       "    'Impact': 0.5623850223461679,\n",
       "    'CVSS': 0.675763184439019,\n",
       "    'Exploitability': 0.12286603353436708},\n",
       "   {'Vulnerability ID': 'bf98f025-a7d5-414a-9211-169793172ceb',\n",
       "    'Complexity': 0.4575241940326324,\n",
       "    'Impact': 2.287329193538976,\n",
       "    'CVSS': 1.3724266937858043,\n",
       "    'Exploitability': 0.2495321261428735}],\n",
       "  'port': None,\n",
       "  'service_id': '839ac6d1-fed7-4474-95c5-188029c099e1'},\n",
       " 'courses': {'vulnerabilities': [{'Vulnerability ID': '49e398de-4b6c-46b5-9496-30489d244ccd',\n",
       "    'Complexity': 0.8494688749349675,\n",
       "    'Impact': 8.621477921680668,\n",
       "    'CVSS': 4.735473398307818,\n",
       "    'Exploitability': 0.8609951633286941},\n",
       "   {'Vulnerability ID': 'f7545b91-d91c-4f6b-b34e-8c855a829b91',\n",
       "    'Complexity': 0.7969105289882905,\n",
       "    'Impact': 9.609324540266742,\n",
       "    'CVSS': 5.203117534627516,\n",
       "    'Exploitability': 0.9460213699322757},\n",
       "   {'Vulnerability ID': 'a3f72aa0-8994-4b45-956a-1b2c8cd18510',\n",
       "    'Complexity': 0.9626984403926715,\n",
       "    'Impact': 1.433624249525327,\n",
       "    'CVSS': 1.1981613449589994,\n",
       "    'Exploitability': 0.21784751726527263},\n",
       "   {'Vulnerability ID': '4f508cfb-05f0-4ecd-882f-fd49ccfd8953',\n",
       "    'Complexity': 0.7049057349382605,\n",
       "    'Impact': 8.410721179537061,\n",
       "    'CVSS': 4.5578134572376605,\n",
       "    'Exploitability': 0.8286933558613928},\n",
       "   {'Vulnerability ID': '827031b3-a500-45b9-8963-70bb97214294',\n",
       "    'Complexity': 0.6831394849010899,\n",
       "    'Impact': 8.972607853110958,\n",
       "    'CVSS': 4.827873669006024,\n",
       "    'Exploitability': 0.8777952125465499},\n",
       "   {'Vulnerability ID': 'bb70eed2-9175-4e87-94ba-25b365736011',\n",
       "    'Complexity': 0.6419384703203915,\n",
       "    'Impact': 6.520570892591854,\n",
       "    'CVSS': 3.5812546814561226,\n",
       "    'Exploitability': 0.6511372148102041},\n",
       "   {'Vulnerability ID': 'a69379ff-45ec-4491-9ccd-7dc6c96e2a62',\n",
       "    'Complexity': 0.5163989062049135,\n",
       "    'Impact': 9.41666590824765,\n",
       "    'CVSS': 4.966532407226282,\n",
       "    'Exploitability': 0.9030058922229603},\n",
       "   {'Vulnerability ID': '6a62eae9-e6b2-457a-a4e3-de8e573a0a74',\n",
       "    'Complexity': 0.4542780357060928,\n",
       "    'Impact': 9.953163054629435,\n",
       "    'CVSS': 5.203720545167764,\n",
       "    'Exploitability': 0.9461310082123208},\n",
       "   {'Vulnerability ID': '33c0bb53-6873-4539-bc39-eb5bcfc8b95d',\n",
       "    'Complexity': 0.8562440478674715,\n",
       "    'Impact': 1.240234203598698,\n",
       "    'CVSS': 1.0482391257330848,\n",
       "    'Exploitability': 0.19058893195146995},\n",
       "   {'Vulnerability ID': 'e9d3ff50-0142-4658-92bd-2b6ea2b33993',\n",
       "    'Complexity': 0.7607447873298971,\n",
       "    'Impact': 0.8953303801647938,\n",
       "    'CVSS': 0.8280375837473455,\n",
       "    'Exploitability': 0.1505522879540628},\n",
       "   {'Vulnerability ID': '1e3c57a7-8684-4550-92e4-4247b1a82fe6',\n",
       "    'Complexity': 0.732408589886787,\n",
       "    'Impact': 0.35085513744758656,\n",
       "    'CVSS': 0.5416318636671869,\n",
       "    'Exploitability': 0.09847852066676124},\n",
       "   {'Vulnerability ID': '74de7253-f5cc-4fe7-b739-f1d60e07fb32',\n",
       "    'Complexity': 0.42023558792728155,\n",
       "    'Impact': 0.9079161998577112,\n",
       "    'CVSS': 0.6640758938924964,\n",
       "    'Exploitability': 0.12074107161681753}],\n",
       "  'port': None,\n",
       "  'service_id': '4707ce21-af55-46c7-add0-78671abd7d90'},\n",
       " 'investing': {'vulnerabilities': [{'Vulnerability ID': '71399623-919d-479d-bb7b-4f5c347a7000',\n",
       "    'Complexity': 0.950002500471823,\n",
       "    'Impact': 4.63316832898763,\n",
       "    'CVSS': 2.7915854147297265,\n",
       "    'Exploitability': 0.753780492248157},\n",
       "   {'Vulnerability ID': 'c4febd0f-5bfc-47d6-81cf-c9103901e466',\n",
       "    'Complexity': 0.902520575444963,\n",
       "    'Impact': 6.628856564098821,\n",
       "    'CVSS': 3.765688569771892,\n",
       "    'Exploitability': 0.8423353245247174},\n",
       "   {'Vulnerability ID': '3d633af4-c80c-4543-aca3-03e360b6fcdb',\n",
       "    'Complexity': 0.8687647170465564,\n",
       "    'Impact': 8.112070459905897,\n",
       "    'CVSS': 4.490417588476227,\n",
       "    'Exploitability': 0.9082197807705661},\n",
       "   {'Vulnerability ID': '5ccedf89-4bd2-481c-a3c5-64b96b7a3a3c',\n",
       "    'Complexity': 0.9226530407964763,\n",
       "    'Impact': 3.581763867039811,\n",
       "    'CVSS': 2.2522084539181435,\n",
       "    'Exploitability': 0.7047462230834676},\n",
       "   {'Vulnerability ID': '0dd573fd-d923-458d-b714-f2756a827e31',\n",
       "    'Complexity': 0.7873585942914453,\n",
       "    'Impact': 8.72675166831302,\n",
       "    'CVSS': 4.7570551313022325,\n",
       "    'Exploitability': 0.9324595573911121},\n",
       "   {'Vulnerability ID': '7b8bbae9-46a3-49e9-8e1d-13b10b85c475',\n",
       "    'Complexity': 0.8102935089722445,\n",
       "    'Impact': 3.551052828999387,\n",
       "    'CVSS': 2.1806731689858156,\n",
       "    'Exploitability': 0.39648603072469374},\n",
       "   {'Vulnerability ID': 'e44371fa-b1da-47a4-b1b1-a3a5fe746275',\n",
       "    'Complexity': 0.5907750422426281,\n",
       "    'Impact': 4.920636326522473,\n",
       "    'CVSS': 2.7557056843825505,\n",
       "    'Exploitability': 0.5010373971604637},\n",
       "   {'Vulnerability ID': '52907751-c76b-44cc-95ab-cfff66474223',\n",
       "    'Complexity': 0.535884538625661,\n",
       "    'Impact': 7.243617862797144,\n",
       "    'CVSS': 3.8897512007114026,\n",
       "    'Exploitability': 0.7072274910384369},\n",
       "   {'Vulnerability ID': '1cabd26f-efcb-4e93-87a9-040814d252d2',\n",
       "    'Complexity': 0.4042662072468689,\n",
       "    'Impact': 5.9946379270180365,\n",
       "    'CVSS': 3.199452067132453,\n",
       "    'Exploitability': 0.581718557660446},\n",
       "   {'Vulnerability ID': '1fb8812e-1232-4fa3-b593-7f4a79e7569a',\n",
       "    'Complexity': 0.4318994197824902,\n",
       "    'Impact': 4.719380209702631,\n",
       "    'CVSS': 2.5756398147425608,\n",
       "    'Exploitability': 0.468298148135011}],\n",
       "  'port': None,\n",
       "  'service_id': '24c5cdcc-ad2c-4eb0-96e0-b36d55ad0a07'}}"
      ]
     },
     "execution_count": 17,
     "metadata": {},
     "output_type": "execute_result"
    }
   ],
   "source": [
    "game_instance.get_service_info(30)"
   ]
  },
  {
   "cell_type": "code",
   "execution_count": 18,
   "id": "c7ec4230",
   "metadata": {},
   "outputs": [],
   "source": [
    "game_instance.service_diversity(30)"
   ]
  },
  {
   "cell_type": "code",
   "execution_count": 19,
   "id": "d95b480b",
   "metadata": {},
   "outputs": [
    {
     "data": {
      "text/plain": [
       "{'kiss': {'vulnerabilities': [{'Vulnerability ID': '0dc3df4c-7bde-407b-9841-b6d060999188',\n",
       "    'Complexity': 0.8590004823870623,\n",
       "    'Impact': 8.73467487813095,\n",
       "    'CVSS': 4.796837680259006,\n",
       "    'Exploitability': 0.8721523055016374},\n",
       "   {'Vulnerability ID': 'ffd57836-0896-4514-a097-359e7fccdbc4',\n",
       "    'Complexity': 0.9592705783780148,\n",
       "    'Impact': 1.2347628759013052,\n",
       "    'CVSS': 1.09701672713966,\n",
       "    'Exploitability': 0.19945758675266545},\n",
       "   {'Vulnerability ID': '65319aca-4317-4a0d-94b9-b8be841644c1',\n",
       "    'Complexity': 0.8726676028987812,\n",
       "    'Impact': 2.1072001262612194,\n",
       "    'CVSS': 1.4899338645800002,\n",
       "    'Exploitability': 0.2708970662872728},\n",
       "   {'Vulnerability ID': '779851e1-75a8-4d43-a3aa-799840b39623',\n",
       "    'Complexity': 0.7220205059675835,\n",
       "    'Impact': 3.9039509318494003,\n",
       "    'CVSS': 2.312985718908492,\n",
       "    'Exploitability': 0.4205428579833622},\n",
       "   {'Vulnerability ID': '79c19245-066a-4c7d-81e7-119a1971eb3c',\n",
       "    'Complexity': 0.6519712735637232,\n",
       "    'Impact': 3.830254042226499,\n",
       "    'CVSS': 2.241112657895111,\n",
       "    'Exploitability': 0.407475028708202},\n",
       "   {'Vulnerability ID': 'a1d1c2c7-fcf9-4242-8728-9b87a9e84a9e',\n",
       "    'Complexity': 0.5640920987835321,\n",
       "    'Impact': 3.4271656834023654,\n",
       "    'CVSS': 1.9956288910929487,\n",
       "    'Exploitability': 0.3628416165623543}],\n",
       "  'port': None,\n",
       "  'service_id': '58bd8e0f-2e31-4a4d-b7d4-e70781642a61'},\n",
       " 'valentine': {'vulnerabilities': [{'Vulnerability ID': '8b7a80e9-9f3e-438a-98af-940e0c68a3e0',\n",
       "    'Complexity': 0.7807428619829526,\n",
       "    'Impact': 5.71873258155398,\n",
       "    'CVSS': 3.2497377217684664,\n",
       "    'Exploitability': 0.590861403957903},\n",
       "   {'Vulnerability ID': 'a1d995d9-b6d5-4449-a65b-d1ff01a33419',\n",
       "    'Complexity': 0.7809435341384133,\n",
       "    'Impact': 5.7063858309019135,\n",
       "    'CVSS': 3.2436646825201634,\n",
       "    'Exploitability': 0.5897572150036661},\n",
       "   {'Vulnerability ID': '0e11ed4f-e36e-4c61-a0e9-6af5f9a12f03',\n",
       "    'Complexity': 0.7101692451406421,\n",
       "    'Impact': 5.159710387656648,\n",
       "    'CVSS': 2.9349398163986447,\n",
       "    'Exploitability': 0.53362542116339},\n",
       "   {'Vulnerability ID': '664a2641-32c7-4053-986f-17232415896e',\n",
       "    'Complexity': 0.5547437377580499,\n",
       "    'Impact': 8.225266644573887,\n",
       "    'CVSS': 4.390005191165969,\n",
       "    'Exploitability': 0.7981827620301761},\n",
       "   {'Vulnerability ID': '26031fd6-3a8e-4103-ad67-68a99906df9d',\n",
       "    'Complexity': 0.49818067653133974,\n",
       "    'Impact': 9.318720859342962,\n",
       "    'CVSS': 4.9084507679371505,\n",
       "    'Exploitability': 0.892445594170391},\n",
       "   {'Vulnerability ID': '33aa6219-cd43-451e-b2c1-457e58c4bcbf',\n",
       "    'Complexity': 0.8948407191289319,\n",
       "    'Impact': 0.9986607540877401,\n",
       "    'CVSS': 0.9467507366083361,\n",
       "    'Exploitability': 0.172136497565152},\n",
       "   {'Vulnerability ID': 'd10db9be-0a71-4536-bfed-14cb3a05cfdd',\n",
       "    'Complexity': 0.5511102532138837,\n",
       "    'Impact': 2.9276493407337636,\n",
       "    'CVSS': 1.7393797969738236,\n",
       "    'Exploitability': 0.31625087217705883}],\n",
       "  'port': None,\n",
       "  'service_id': 'b10df652-1c15-4339-8a6b-59c359a29a9e'},\n",
       " 'sell': {'vulnerabilities': [{'Vulnerability ID': '82560ed1-ecf5-414b-b8b4-c9d4cea366f0',\n",
       "    'Complexity': 0.7817130723535322,\n",
       "    'Impact': 6.238103347046379,\n",
       "    'CVSS': 3.5099082096999554,\n",
       "    'Exploitability': 0.6381651290363556},\n",
       "   {'Vulnerability ID': '5b6291aa-83ac-4790-83b1-23430bf535a5',\n",
       "    'Complexity': 0.5834641491370135,\n",
       "    'Impact': 8.60800483523183,\n",
       "    'CVSS': 4.595734492184421,\n",
       "    'Exploitability': 0.8355880894880766},\n",
       "   {'Vulnerability ID': 'fdbc0354-4d0a-468d-bd42-14b4afe55abb',\n",
       "    'Complexity': 0.5722405409440918,\n",
       "    'Impact': 7.018556335970517,\n",
       "    'CVSS': 3.7953984384573047,\n",
       "    'Exploitability': 0.6900724433558736},\n",
       "   {'Vulnerability ID': 'fb77a927-f927-4837-86cb-78a73375bdda',\n",
       "    'Complexity': 0.5338634119477599,\n",
       "    'Impact': 6.025569812776159,\n",
       "    'CVSS': 3.2797166123619594,\n",
       "    'Exploitability': 0.5963121113385381},\n",
       "   {'Vulnerability ID': 'e70a9ede-5453-4951-8e8d-aa9117264c87',\n",
       "    'Complexity': 0.41989384641633576,\n",
       "    'Impact': 8.214548518591704,\n",
       "    'CVSS': 4.31722118250402,\n",
       "    'Exploitability': 0.7849493059098218},\n",
       "   {'Vulnerability ID': '83bb3dec-06cb-42c7-b084-2473a67aa4dd',\n",
       "    'Complexity': 0.4507490974849124,\n",
       "    'Impact': 3.4875630636532318,\n",
       "    'CVSS': 1.969156080569072,\n",
       "    'Exploitability': 0.35802837828528583},\n",
       "   {'Vulnerability ID': '4263afdc-9072-4ba1-9af0-a28f4f602511',\n",
       "    'Complexity': 0.42611537225862783,\n",
       "    'Impact': 2.3954859736818457,\n",
       "    'CVSS': 1.4108006729702367,\n",
       "    'Exploitability': 0.25650921326731574}],\n",
       "  'port': None,\n",
       "  'service_id': '3fa3cb47-430d-4be5-8364-8f1c833e3bf5'},\n",
       " 'rss': {'vulnerabilities': [{'Vulnerability ID': '2dae3278-0201-45ba-b754-99d5a6ff1575',\n",
       "    'Complexity': 0.9568829688394986,\n",
       "    'Impact': 5.931262617185267,\n",
       "    'CVSS': 3.4440727930123827,\n",
       "    'Exploitability': 0.6261950532749787},\n",
       "   {'Vulnerability ID': '458750b6-f12a-4b64-862b-fe6144bfe37b',\n",
       "    'Complexity': 0.5012235983556437,\n",
       "    'Impact': 2.2423706283592404,\n",
       "    'CVSS': 1.371797113357442,\n",
       "    'Exploitability': 0.24941765697408036}],\n",
       "  'port': None,\n",
       "  'service_id': '59b1e5cb-ba20-426d-8e8e-872f166fef9d'},\n",
       " 'tragedy': {'vulnerabilities': [{'Vulnerability ID': 'bfaa8c4c-a159-4917-8ea4-013aec2d71a4',\n",
       "    'Complexity': 0.9804314306237973,\n",
       "    'Impact': 5.3417663632816135,\n",
       "    'CVSS': 3.1610988969527054,\n",
       "    'Exploitability': 0.574745253991401},\n",
       "   {'Vulnerability ID': 'ee60788b-8b5a-4c82-867f-ed4bc3063508',\n",
       "    'Complexity': 0.8510116910673341,\n",
       "    'Impact': 5.142551647478058,\n",
       "    'CVSS': 2.996781669272696,\n",
       "    'Exploitability': 0.5448693944132175},\n",
       "   {'Vulnerability ID': '3b1c0bb8-dbd0-4762-9945-9e5f8a3a441e',\n",
       "    'Complexity': 0.7247160618072999,\n",
       "    'Impact': 8.94540457950504,\n",
       "    'CVSS': 4.8350603206561695,\n",
       "    'Exploitability': 0.8791018764829399},\n",
       "   {'Vulnerability ID': 'd7089339-927b-4017-86c0-b04803990ab8',\n",
       "    'Complexity': 0.7512501338403046,\n",
       "    'Impact': 6.813130030460345,\n",
       "    'CVSS': 3.7821900821503247,\n",
       "    'Exploitability': 0.6876709240273318},\n",
       "   {'Vulnerability ID': 'b01d35a4-3ee2-425c-8ba9-0ba7d5da3a85',\n",
       "    'Complexity': 0.6784033048553307,\n",
       "    'Impact': 4.363342966559275,\n",
       "    'CVSS': 2.5208731357073026,\n",
       "    'Exploitability': 0.45834057012860047},\n",
       "   {'Vulnerability ID': '17672b37-7cf8-430e-9d52-2bf4fe1acd5b',\n",
       "    'Complexity': 0.5138648348063444,\n",
       "    'Impact': 6.762995940742283,\n",
       "    'CVSS': 3.6384303877743136,\n",
       "    'Exploitability': 0.6615327977771479},\n",
       "   {'Vulnerability ID': '6e4b3083-ba12-4c3b-80eb-a3432f31d7e7',\n",
       "    'Complexity': 0.750163596161749,\n",
       "    'Impact': 0.9338970995204199,\n",
       "    'CVSS': 0.8420303478410844,\n",
       "    'Exploitability': 0.15309642688019717},\n",
       "   {'Vulnerability ID': '451b7c40-8294-4075-b271-3dc6cc557f93',\n",
       "    'Complexity': 0.7268764042026195,\n",
       "    'Impact': 0.016547464451850402,\n",
       "    'CVSS': 0.3717119343272349,\n",
       "    'Exploitability': 0.06758398805949727}],\n",
       "  'port': None,\n",
       "  'service_id': 'aa05689b-9c75-425c-8cfb-161a1badd0a6'}}"
      ]
     },
     "execution_count": 19,
     "metadata": {},
     "output_type": "execute_result"
    }
   ],
   "source": [
    "game_instance.get_service_info(30)"
   ]
  },
  {
   "cell_type": "code",
   "execution_count": null,
   "id": "d2008695",
   "metadata": {},
   "outputs": [],
   "source": []
  }
 ],
 "metadata": {
  "kernelspec": {
   "display_name": "Python 3 (ipykernel)",
   "language": "python",
   "name": "python3"
  },
  "language_info": {
   "codemirror_mode": {
    "name": "ipython",
    "version": 3
   },
   "file_extension": ".py",
   "mimetype": "text/x-python",
   "name": "python",
   "nbconvert_exporter": "python",
   "pygments_lexer": "ipython3",
   "version": "3.10.9"
  }
 },
 "nbformat": 4,
 "nbformat_minor": 5
}
